{
 "cells": [
  {
   "cell_type": "markdown",
   "id": "b5b40627",
   "metadata": {},
   "source": [
    "---   \n",
    " <img align=\"left\" width=\"75\" height=\"75\"  src=\"../University_of_the_Punjab_logo.png\"> \n",
    "\n",
    "<h1 align=\"center\">Department of Data Science</h1>\n",
    "<h1 align=\"center\">Data Science Journey from Beginners to Expert</h1>\n",
    "\n",
    "---\n",
    "<h3><div align=\"right\">Instructor: Engr. Muhammad Nadeem Majeed, Ph.D.</div></h3>     "
   ]
  },
  {
   "cell_type": "markdown",
   "id": "7e05a8a1",
   "metadata": {},
   "source": [
    "<h1 align=\"center\">Lecture 3.5 (NumPy-05)</h1>"
   ]
  },
  {
   "cell_type": "markdown",
   "id": "2f6acdc3",
   "metadata": {},
   "source": [
    "# _Broadcasting, Reshaping, Sorting and Iterating NumPy Arrays.ipynb_"
   ]
  },
  {
   "cell_type": "markdown",
   "id": "29a16b1f",
   "metadata": {},
   "source": [
    "<img align=\"center\" width=\"600\" height=\"600\"  src=\"images/reshapingbroadcasting.png\" > "
   ]
  },
  {
   "cell_type": "code",
   "execution_count": null,
   "id": "330b046a",
   "metadata": {},
   "outputs": [],
   "source": []
  },
  {
   "cell_type": "markdown",
   "id": "c10ce742",
   "metadata": {},
   "source": [
    "# Learning agenda of this notebook\n",
    "1. Broadcasting NumPy Arrays\n",
    "2. Reshaping NumPy Arrays\n",
    "    - Use `shape` attribute (in-place operation)\n",
    "    - Use `np.reshape()` method (shallow copy)\n",
    "    - Use `np.resize()` method (deep copy)\n",
    "    - Use `ndarray.transpose()` method (shallow copy)\n",
    "    - Use `np.swapaxes()`method (shallow copy)\n",
    "    - Use `np.flatten()` method (deep copy)\n",
    "3. Sorting Arrays using `np.sort()` Method\n",
    "4. Iterating NumPy Arrays"
   ]
  },
  {
   "cell_type": "code",
   "execution_count": 1,
   "id": "932c9898",
   "metadata": {},
   "outputs": [],
   "source": [
    "# To install this library in Jupyter notebook\n",
    "#import sys\n",
    "#!{sys.executable} -m pip install numpy"
   ]
  },
  {
   "cell_type": "code",
   "execution_count": 1,
   "id": "98474a05",
   "metadata": {},
   "outputs": [
    {
     "data": {
      "text/plain": [
       "('1.24.3', ['C:\\\\Users\\\\Nadeem\\\\anaconda3\\\\Lib\\\\site-packages\\\\numpy'])"
      ]
     },
     "execution_count": 1,
     "metadata": {},
     "output_type": "execute_result"
    }
   ],
   "source": [
    "import numpy as np\n",
    "np.__version__ , np.__path__"
   ]
  },
  {
   "cell_type": "code",
   "execution_count": null,
   "id": "20c8c749",
   "metadata": {},
   "outputs": [],
   "source": []
  },
  {
   "cell_type": "markdown",
   "id": "c3ea9ffe",
   "metadata": {},
   "source": [
    "## 1. Broadcasting numPy Arrays\n",
    "- Numpy arrays also support **broadcasting**, allowing arithmetic operations between two arrays with different numbers of dimensions but compatible shapes. \n",
    "- Subject to certain constraints, the smaller array is “broadcast” across the larger array so that they have compatible shapes.\n",
    "- Two dimensions are compatible when\n",
    "    - they are equal, or\n",
    "    - one of them is 1"
   ]
  },
  {
   "cell_type": "markdown",
   "id": "605189d4",
   "metadata": {},
   "source": [
    ">**Review of Arithmetic operations with numPy arrays of same shape:**"
   ]
  },
  {
   "cell_type": "code",
   "execution_count": 3,
   "id": "25af4615",
   "metadata": {},
   "outputs": [
    {
     "name": "stdout",
     "output_type": "stream",
     "text": [
      "arr1:  [17 41 36 45 11]\n",
      "arr2:  [3 5 6 4 3]\n",
      "arr1 + arr2 =  [20 46 42 49 14]\n",
      "arr1 / arr2 =  [ 5.66666667  8.2         6.         11.25        3.66666667]\n",
      "arr1 // arr2 =  [ 5  8  6 11  3]\n",
      "arr1 ** arr2 =  [       4913   115856201 -2118184960     4100625        1331]\n"
     ]
    }
   ],
   "source": [
    "import numpy as np\n",
    "# Create two 1-D arrays each having 4 random integers from 1 to 9\n",
    "arr1 = np.random.randint(1,50, size=5)\n",
    "arr2 = np.random.randint(1,10, size=5)\n",
    "print(\"arr1: \", arr1)\n",
    "print(\"arr2: \", arr2)\n",
    "\n",
    "# After the operation a new `ndarray` is returned\n",
    "print(\"arr1 + arr2 = \",      arr1 + arr2)    \n",
    "print(\"arr1 / arr2 = \", arr1 / arr2)    \n",
    "print(\"arr1 // arr2 = \",   arr1  // arr2)  \n",
    "\n",
    "print(\"arr1 ** arr2 = \",      arr1  ** arr2)   "
   ]
  },
  {
   "cell_type": "code",
   "execution_count": null,
   "id": "bd188d7c",
   "metadata": {},
   "outputs": [],
   "source": []
  },
  {
   "cell_type": "markdown",
   "id": "9f70a279",
   "metadata": {},
   "source": [
    "### a. Arithmetic of 1-Dimensional Array with a Scalar Value"
   ]
  },
  {
   "cell_type": "code",
   "execution_count": 5,
   "id": "2dc0cc6f",
   "metadata": {},
   "outputs": [
    {
     "name": "stdout",
     "output_type": "stream",
     "text": [
      "arr1:  [1 2 3 4]\n",
      "arr1.shape:  (4,)\n",
      "a:  2\n"
     ]
    }
   ],
   "source": [
    "# Consider adding a scalar value 'a' to a 1-D numPy array\n",
    "arr1 = np.array([1, 2, 3, 4])\n",
    "print(\"arr1: \", arr1)\n",
    "print(\"arr1.shape: \", arr1.shape)\n",
    "a = 2\n",
    "print(\"a: \", a)"
   ]
  },
  {
   "cell_type": "code",
   "execution_count": 7,
   "id": "fde47c32",
   "metadata": {},
   "outputs": [
    {
     "name": "stdout",
     "output_type": "stream",
     "text": [
      "arr2: \n",
      " [3 4 5 6]\n"
     ]
    }
   ],
   "source": [
    "# The scalar value is replicated to match the shape of arr1 before the operation\n",
    "#   [2  2  2  2] \n",
    "\n",
    "arr2 = arr1 + a \n",
    "print(\"arr2: \\n\", arr2)"
   ]
  },
  {
   "cell_type": "code",
   "execution_count": null,
   "id": "4dacde3b",
   "metadata": {},
   "outputs": [],
   "source": []
  },
  {
   "cell_type": "markdown",
   "id": "8dc9db14",
   "metadata": {},
   "source": [
    "### b. Arithmetic of 2-Dimensional Array with a Scalar Value"
   ]
  },
  {
   "cell_type": "code",
   "execution_count": 7,
   "id": "254d9dff",
   "metadata": {},
   "outputs": [
    {
     "name": "stdout",
     "output_type": "stream",
     "text": [
      "arr1:\n",
      " [[1 2 3]\n",
      " [1 2 3]]\n",
      "arr1.shape:  (2, 3)\n",
      "a:  2\n"
     ]
    }
   ],
   "source": [
    "# Consider adding a scalar value 'a' to a 2-D numPy array\n",
    "arr1 = np.array([[1, 2, 3], [1, 2, 3]])\n",
    "print(\"arr1:\\n\", arr1)\n",
    "print(\"arr1.shape: \", arr1.shape)\n",
    "a = 2\n",
    "print(\"a: \", a)"
   ]
  },
  {
   "cell_type": "code",
   "execution_count": 9,
   "id": "4c024488",
   "metadata": {},
   "outputs": [
    {
     "name": "stdout",
     "output_type": "stream",
     "text": [
      "arr2: \n",
      " [[3 4 5]\n",
      " [3 4 5]]\n"
     ]
    }
   ],
   "source": [
    "# The scalar value is replicated to match the shape of arr1 before the operation\n",
    "#   2  2  2 \n",
    "#   2  2  2 \n",
    "\n",
    "arr2 = arr1 + a \n",
    "print(\"arr2: \\n\", arr2)"
   ]
  },
  {
   "cell_type": "code",
   "execution_count": null,
   "id": "50ec8fc2",
   "metadata": {},
   "outputs": [],
   "source": []
  },
  {
   "cell_type": "markdown",
   "id": "a278f789",
   "metadata": {},
   "source": [
    "### c. Arithmetic of 1-Dimensional Array with a 2-Dimensional Array"
   ]
  },
  {
   "cell_type": "markdown",
   "id": "12b38b4c",
   "metadata": {},
   "source": [
    "**Example 1:** Consider adding a 2-D array (3x4) to a 1-D array with 4 values"
   ]
  },
  {
   "cell_type": "code",
   "execution_count": 11,
   "id": "c70b2618",
   "metadata": {},
   "outputs": [
    {
     "name": "stdout",
     "output_type": "stream",
     "text": [
      "arr1:\n",
      " [[1 2 3 4]\n",
      " [3 4 5 6]\n",
      " [2 7 8 9]]\n",
      "arr1.shape:  (3, 4)\n",
      "arr2:\n",
      " [4 2 3 5]\n",
      "arr2.shape:  (4,)\n"
     ]
    }
   ],
   "source": [
    "arr1 = np.array([[1, 2, 3, 4], [3, 4, 5, 6], [2, 7, 8, 9]])\n",
    "arr2 = np.array([4, 2, 3, 5])\n",
    "print(\"arr1:\\n\", arr1)\n",
    "print(\"arr1.shape: \", arr1.shape)\n",
    "print(\"arr2:\\n\", arr2)\n",
    "print(\"arr2.shape: \", arr2.shape)"
   ]
  },
  {
   "cell_type": "code",
   "execution_count": 13,
   "id": "5a995ec2",
   "metadata": {},
   "outputs": [
    {
     "name": "stdout",
     "output_type": "stream",
     "text": [
      "arr3: \n",
      " [[ 5  4  6  9]\n",
      " [ 7  6  8 11]\n",
      " [ 6  9 11 14]]\n"
     ]
    }
   ],
   "source": [
    "# The only row of arr2 is replicated twice before the operation\n",
    "#   4  2  3  5\n",
    "#   4  2  3  5\n",
    "#   4  2  3  5\n",
    "\n",
    "arr3 = arr1 + arr2 \n",
    "\n",
    "print(\"arr3: \\n\", arr3)"
   ]
  },
  {
   "cell_type": "markdown",
   "id": "b9e71d83",
   "metadata": {},
   "source": [
    "**Example 2:** Consider adding a 2-D array (4x2) to a 1-D array with 2 values"
   ]
  },
  {
   "cell_type": "code",
   "execution_count": 15,
   "id": "8785ba17",
   "metadata": {},
   "outputs": [
    {
     "name": "stdout",
     "output_type": "stream",
     "text": [
      "arr1:\n",
      " [[1 2]\n",
      " [3 4]\n",
      " [5 6]\n",
      " [7 8]]\n",
      "arr1.shape:  (4, 2)\n",
      "arr2:\n",
      " [4 5]\n",
      "arr2.shape:  (2,)\n"
     ]
    }
   ],
   "source": [
    "arr1 = np.array([[1, 2], [3, 4], [5, 6], [7, 8]])\n",
    "print(\"arr1:\\n\", arr1)\n",
    "print(\"arr1.shape: \", arr1.shape)\n",
    "\n",
    "arr2 = np.array([4, 5])\n",
    "print(\"arr2:\\n\", arr2)\n",
    "print(\"arr2.shape: \", arr2.shape)"
   ]
  },
  {
   "cell_type": "code",
   "execution_count": 17,
   "id": "a9e6b566",
   "metadata": {},
   "outputs": [
    {
     "name": "stdout",
     "output_type": "stream",
     "text": [
      "arr3: \n",
      " [[ 5  7]\n",
      " [ 7  9]\n",
      " [ 9 11]\n",
      " [11 13]]\n"
     ]
    }
   ],
   "source": [
    "# The only row of arr2 is replicated three times before the operation\n",
    "#   4  5\n",
    "#   4  5\n",
    "#   4  5\n",
    "#   4  5\n",
    "arr3 = arr2 + arr1 \n",
    "\n",
    "print(\"arr3: \\n\", arr3)"
   ]
  },
  {
   "cell_type": "markdown",
   "id": "c9c5a54f",
   "metadata": {},
   "source": [
    "### d. Arithmetic of two 2-Dimensional Arrays"
   ]
  },
  {
   "cell_type": "markdown",
   "id": "df0990af",
   "metadata": {},
   "source": [
    "**Example 1:** Consider adding elements of a 2-D array (2x3) with another 2-D array (3x1)"
   ]
  },
  {
   "cell_type": "code",
   "execution_count": 19,
   "id": "10440087",
   "metadata": {},
   "outputs": [
    {
     "name": "stdout",
     "output_type": "stream",
     "text": [
      "arr1:\n",
      " [[5 3 2]\n",
      " [3 4 5]\n",
      " [7 1 4]]\n",
      "arr1.shape:  (3, 3)\n",
      "arr2:\n",
      " [[100]\n",
      " [200]\n",
      " [300]]\n",
      "arr2.shape:  (3, 1)\n"
     ]
    }
   ],
   "source": [
    "arr1 = np.array([[5, 3, 2],[3, 4, 5], [7, 1, 4]])\n",
    "print(\"arr1:\\n\", arr1)\n",
    "print(\"arr1.shape: \", arr1.shape)\n",
    "\n",
    "arr2 = np.array([[100], [200], [300]])\n",
    "print(\"arr2:\\n\", arr2)\n",
    "print(\"arr2.shape: \", arr2.shape)"
   ]
  },
  {
   "cell_type": "code",
   "execution_count": 21,
   "id": "182ab99a",
   "metadata": {},
   "outputs": [
    {
     "name": "stdout",
     "output_type": "stream",
     "text": [
      "arr3: \n",
      " [[105 103 102]\n",
      " [203 204 205]\n",
      " [307 301 304]]\n"
     ]
    }
   ],
   "source": [
    "# The only column of arr2 is replicated twice before the operation\n",
    "#   100   100   100\n",
    "#   200   200   200\n",
    "#   300   300   300\n",
    "\n",
    "arr3 = arr1 + arr2 \n",
    "\n",
    "print(\"arr3: \\n\", arr3)"
   ]
  },
  {
   "cell_type": "markdown",
   "id": "c651f0ef",
   "metadata": {},
   "source": [
    "**Points to Ponder in Arithmetic and Broadcasting:**\n",
    ">- Arithmetic between elements of two numPy arrays works fine if both the arrays are of same shape.\n",
    ">- Arithmetic between a numPy array and a scalar value works fine due to broadcasting.\n",
    ">- Arithmetic between elements of two numPy arrays with different dimensions will work, if and only if the array with smaller dimension can be replicated to match the shape of other array (as in above examples)"
   ]
  },
  {
   "cell_type": "markdown",
   "id": "1188f96d",
   "metadata": {},
   "source": [
    "**Example 1: Broadcast Error**"
   ]
  },
  {
   "cell_type": "code",
   "execution_count": 23,
   "id": "69240490",
   "metadata": {},
   "outputs": [
    {
     "name": "stdout",
     "output_type": "stream",
     "text": [
      "arr1:\n",
      " [[1 2 3]\n",
      " [1 2 3]]\n",
      "arr1.shape:  (2, 3)\n",
      "arr2:\n",
      " [1 2]\n",
      "arr2.shape:  (2,)\n"
     ]
    }
   ],
   "source": [
    "# Consider adding a 2-D array (2x3) to a 1-D array with 2 values\n",
    "arr1 = np.array([[1, 2, 3], [1, 2, 3]])\n",
    "arr2 = np.array([1,2])\n",
    "print(\"arr1:\\n\", arr1)\n",
    "print(\"arr1.shape: \", arr1.shape)\n",
    "print(\"arr2:\\n\", arr2)\n",
    "print(\"arr2.shape: \", arr2.shape)"
   ]
  },
  {
   "cell_type": "code",
   "execution_count": 25,
   "id": "e35edb35",
   "metadata": {},
   "outputs": [
    {
     "ename": "ValueError",
     "evalue": "operands could not be broadcast together with shapes (2,3) (2,) ",
     "output_type": "error",
     "traceback": [
      "\u001b[1;31m---------------------------------------------------------------------------\u001b[0m",
      "\u001b[1;31mValueError\u001b[0m                                Traceback (most recent call last)",
      "Cell \u001b[1;32mIn[25], line 4\u001b[0m\n\u001b[0;32m      1\u001b[0m \u001b[38;5;66;03m# Since arr2 cannot be replicated to match the shape of arr1,\u001b[39;00m\n\u001b[0;32m      2\u001b[0m \u001b[38;5;66;03m# (last dimension of `arr1` i.e., 3 does not match with the first dimension of `arr2` i.e., 2)\u001b[39;00m\n\u001b[0;32m      3\u001b[0m \u001b[38;5;66;03m# therefore, broadcasting is unsuccessful and will flag an error\u001b[39;00m\n\u001b[1;32m----> 4\u001b[0m arr3 \u001b[38;5;241m=\u001b[39m arr1 \u001b[38;5;241m+\u001b[39m arr2 \n\u001b[0;32m      6\u001b[0m \u001b[38;5;28mprint\u001b[39m(\u001b[38;5;124m\"\u001b[39m\u001b[38;5;124marr3: \u001b[39m\u001b[38;5;130;01m\\n\u001b[39;00m\u001b[38;5;124m\"\u001b[39m, arr3)\n",
      "\u001b[1;31mValueError\u001b[0m: operands could not be broadcast together with shapes (2,3) (2,) "
     ]
    }
   ],
   "source": [
    "# Since arr2 cannot be replicated to match the shape of arr1,\n",
    "# (last dimension of `arr1` i.e., 3 does not match with the first dimension of `arr2` i.e., 2)\n",
    "# therefore, broadcasting is unsuccessful and will flag an error\n",
    "arr3 = arr1 + arr2 \n",
    "\n",
    "print(\"arr3: \\n\", arr3)"
   ]
  },
  {
   "cell_type": "code",
   "execution_count": null,
   "id": "e6f69aba",
   "metadata": {},
   "outputs": [],
   "source": []
  },
  {
   "cell_type": "markdown",
   "id": "d824b817",
   "metadata": {},
   "source": [
    "**Example 2: Broadcast Error**"
   ]
  },
  {
   "cell_type": "code",
   "execution_count": 31,
   "id": "1fc34edb",
   "metadata": {},
   "outputs": [
    {
     "name": "stdout",
     "output_type": "stream",
     "text": [
      "arr1:\n",
      " [[1 2]\n",
      " [3 4]\n",
      " [5 6]\n",
      " [7 8]]\n",
      "arr1.shape:  (4, 2)\n",
      "arr2:\n",
      " [[4]\n",
      " [5]\n",
      " [6]]\n",
      "arr2.shape:  (3, 1)\n"
     ]
    }
   ],
   "source": [
    "# Consider adding a 2-D array (2x3) to a 1-D array with 2 values\n",
    "arr1 = np.array([[1, 2], [3, 4], [5, 6], [7, 8]])\n",
    "print(\"arr1:\\n\", arr1)\n",
    "print(\"arr1.shape: \", arr1.shape)\n",
    "\n",
    "\n",
    "arr2 = np.array([[4], [5], [6]])\n",
    "print(\"arr2:\\n\", arr2)\n",
    "print(\"arr2.shape: \", arr2.shape)"
   ]
  },
  {
   "cell_type": "code",
   "execution_count": 33,
   "id": "67d7e845",
   "metadata": {},
   "outputs": [
    {
     "name": "stdout",
     "output_type": "stream",
     "text": [
      "operands could not be broadcast together with shapes (4,2) (3,1) \n"
     ]
    }
   ],
   "source": [
    "# Since arr2 cannot be replicated to match the shape of arr1,\n",
    "# (last dimension of `arr1` i.e., 2 does not match with the first dimension of `arr2` i.e., 3)\n",
    "# therefore, broadcasting is unsuccessful and will flag an error\n",
    "try:\n",
    "    arr3 = arr1 + arr2 \n",
    "    print(\"arr3: \\n\", arr3)\n",
    "except ValueError as e:\n",
    "    print(e)"
   ]
  },
  {
   "cell_type": "markdown",
   "id": "5e1e61f0",
   "metadata": {},
   "source": [
    "**Example 3: Broadcast Error**"
   ]
  },
  {
   "cell_type": "code",
   "execution_count": 9,
   "id": "1e24eb32",
   "metadata": {},
   "outputs": [
    {
     "name": "stdout",
     "output_type": "stream",
     "text": [
      "arr1:\n",
      " [[5 3 2]\n",
      " [3 4 5]\n",
      " [7 1 4]]\n",
      "arr1.shape:  (3, 3)\n",
      "arr2:\n",
      " [[100]\n",
      " [200]]\n",
      "arr2.shape:  (2, 1)\n"
     ]
    }
   ],
   "source": [
    "arr1 = np.array([[5, 3, 2],[3, 4, 5], [7, 1, 4]])\n",
    "print(\"arr1:\\n\", arr1)\n",
    "print(\"arr1.shape: \", arr1.shape)\n",
    "\n",
    "arr2 = np.array([[100], [200]])\n",
    "print(\"arr2:\\n\", arr2)\n",
    "print(\"arr2.shape: \", arr2.shape)"
   ]
  },
  {
   "cell_type": "code",
   "execution_count": 39,
   "id": "cd4f687f",
   "metadata": {},
   "outputs": [
    {
     "name": "stdout",
     "output_type": "stream",
     "text": [
      "operands could not be broadcast together with shapes (3,3) (2,1) \n"
     ]
    }
   ],
   "source": [
    "# Since arr2 cannot be replicated to match the shape of arr1,\n",
    "# (last dimension of `arr1` i.e., 3 does not match with the first dimension of `arr2` i.e., 2)\n",
    "# therefore, broadcasting is unsuccessful and will flag an error\n",
    "try:\n",
    "    arr3 = arr1 + arr2 \n",
    "    print(\"arr3: \\n\", arr3)\n",
    "except ValueError as e:\n",
    "    print(e)"
   ]
  },
  {
   "cell_type": "markdown",
   "id": "7494392a",
   "metadata": {},
   "source": [
    "## 2. Reshaping Arrays\n",
    "- Reshaping numpy array simply means changing the shape of the given array, shape basically tells the number of elements and dimension of array.\n",
    "- By reshaping an array we can add or remove dimensions or change number of elements in each dimension.\n",
    "- There are different ways that reshape numPy arrays:\n",
    "    - Changing the `shape` attribute (in-place operation)\n",
    "    - Use `np.reshape()` method (shallow copy)\n",
    "    - Use `np.resize()` method (deep copy)\n",
    "    - Use `ndarray.transpose()` method (shallow copy)\n",
    "    - Use `np.swapaxes()`method (shallow copy)\n",
    "    - Use `ndarray.flatten()` method (deep copy)"
   ]
  },
  {
   "cell_type": "code",
   "execution_count": null,
   "id": "aa4460ed",
   "metadata": {},
   "outputs": [],
   "source": []
  },
  {
   "cell_type": "code",
   "execution_count": null,
   "id": "a3979bd7",
   "metadata": {},
   "outputs": [],
   "source": []
  },
  {
   "cell_type": "markdown",
   "id": "32ab0cc0",
   "metadata": {},
   "source": [
    "### a. Change the `np.shape` Attribute\n",
    "- Changing the shape of an `ndarray` is as simple as setting its `shape` attribute. However, the array's size must remain the same.\n",
    "- No new array is created, rather the change of shape occurs in-place."
   ]
  },
  {
   "cell_type": "code",
   "execution_count": 13,
   "id": "9ddec588",
   "metadata": {},
   "outputs": [
    {
     "name": "stdout",
     "output_type": "stream",
     "text": [
      "arr1: [ 0  1  2  3  4  5  6  7  8  9 10 11 12 13 14 15 16 17 18 19 20 21 22 23]\n",
      "Dimensions: 1\n",
      "Shape: (24,)\n",
      "Strides: (4,)\n"
     ]
    }
   ],
   "source": [
    "import numpy as np\n",
    "arr1 = np.arange(24)\n",
    "print(\"arr1:\", arr1)\n",
    "print(\"Dimensions:\", arr1.ndim)\n",
    "print(\"Shape:\", arr1.shape)\n",
    "print(\"Strides:\", arr1.strides)"
   ]
  },
  {
   "cell_type": "code",
   "execution_count": 15,
   "id": "692e83f4",
   "metadata": {},
   "outputs": [
    {
     "name": "stdout",
     "output_type": "stream",
     "text": [
      "arr1: \n",
      " [[ 0  1  2  3]\n",
      " [ 4  5  6  7]\n",
      " [ 8  9 10 11]\n",
      " [12 13 14 15]\n",
      " [16 17 18 19]\n",
      " [20 21 22 23]]\n",
      "Dimensions: 2\n",
      "Shape: (6, 4)\n",
      "Strides: (16, 4)\n"
     ]
    }
   ],
   "source": [
    "#Changing the shape attribute (array size must remain same)\n",
    "arr1.shape = (6, 4)\n",
    "print(\"arr1: \\n\", arr1)\n",
    "print(\"Dimensions:\", arr1.ndim)\n",
    "print(\"Shape:\", arr1.shape)\n",
    "print(\"Strides:\", arr1.strides)"
   ]
  },
  {
   "cell_type": "code",
   "execution_count": 17,
   "id": "76c0369f",
   "metadata": {},
   "outputs": [
    {
     "name": "stdout",
     "output_type": "stream",
     "text": [
      "arr1: \n",
      " [[[ 0  1  2]\n",
      "  [ 3  4  5]\n",
      "  [ 6  7  8]\n",
      "  [ 9 10 11]]\n",
      "\n",
      " [[12 13 14]\n",
      "  [15 16 17]\n",
      "  [18 19 20]\n",
      "  [21 22 23]]]\n",
      "Dimensions: 3\n",
      "Shape: (2, 4, 3)\n",
      "Strides: (48, 12, 4)\n"
     ]
    }
   ],
   "source": [
    "#Changing the shape attribute (array size must remain same)\n",
    "arr1.shape = (2, 4, 3)\n",
    "print(\"arr1: \\n\", arr1)\n",
    "print(\"Dimensions:\", arr1.ndim)\n",
    "print(\"Shape:\", arr1.shape)\n",
    "print(\"Strides:\", arr1.strides)"
   ]
  },
  {
   "cell_type": "markdown",
   "id": "49b38500",
   "metadata": {},
   "source": [
    "### b. Use the `np.reshape()` Method\n",
    "<img align=\"right\" width=\"400\" height=\"400\"  src=\"images/reshapecf.png\" > \n",
    "\n",
    "```\n",
    "np.reshape(arr, newshape)\n",
    "```\n",
    "\n",
    "- The `np.reshape()` method takes the input array, then a tuple that defines the shape of the new array and returns a new array, which shares the same memory as the original array. You can think it as shallow copy in Python, where if you change the data in one array, the corresponding data in the other array is also modified."
   ]
  },
  {
   "cell_type": "markdown",
   "id": "07da1408",
   "metadata": {},
   "source": [
    "**Example 1:** Reshaping from 1-D numPy Arrays to 2-D numPy Arrays"
   ]
  },
  {
   "cell_type": "code",
   "execution_count": 19,
   "id": "0e3c6adc",
   "metadata": {},
   "outputs": [
    {
     "name": "stdout",
     "output_type": "stream",
     "text": [
      "Original Array:  [1 2 3 4 5 6] \n",
      "Shape:  (6,)\n"
     ]
    }
   ],
   "source": [
    "arr1 = np.array([1, 2, 3, 4, 5, 6])\n",
    "print(\"Original Array: \", arr1, \"\\nShape: \", arr1.shape)"
   ]
  },
  {
   "cell_type": "code",
   "execution_count": 21,
   "id": "046869e6",
   "metadata": {},
   "outputs": [
    {
     "name": "stdout",
     "output_type": "stream",
     "text": [
      "Reshaped Array: \n",
      " [[1 2 3]\n",
      " [4 5 6]] \n",
      "Shape:  (2, 3)\n"
     ]
    }
   ],
   "source": [
    "# Changing the dimension of array using reshape()\n",
    "arr2 = np.reshape(arr1, (2, 3))\n",
    "print(\"Reshaped Array: \\n\", arr2, \"\\nShape: \", arr2.shape)"
   ]
  },
  {
   "cell_type": "code",
   "execution_count": 67,
   "id": "84df047d",
   "metadata": {},
   "outputs": [
    {
     "name": "stdout",
     "output_type": "stream",
     "text": [
      "Original Array:  [99  2  3  4  5  6]\n",
      "Reshaped Array: \n",
      " [[99  2  3]\n",
      " [ 4  5  6]]\n",
      "id(arr1):  1853243740816\n",
      "id(arr2):  1853243989840\n"
     ]
    }
   ],
   "source": [
    "# make change in one of the arrays, the change is reflected in both\n",
    "arr2[0][0] = 99\n",
    "print(\"Original Array: \", arr1)\n",
    "print(\"Reshaped Array: \\n\", arr2)\n",
    "print(\"id(arr1): \", id(arr1))\n",
    "print(\"id(arr2): \",id(arr2))"
   ]
  },
  {
   "cell_type": "markdown",
   "id": "dffe7c85",
   "metadata": {},
   "source": [
    "**Example 2:** Reshaping from 1-D numPy Arrays to 3-D numPy Arrays"
   ]
  },
  {
   "cell_type": "code",
   "execution_count": 69,
   "id": "b6ae4c1f",
   "metadata": {},
   "outputs": [
    {
     "name": "stdout",
     "output_type": "stream",
     "text": [
      "Original Array:  [ 1  2  3  4  5  6  7  8  9 10 11 12] \n",
      "Shape:  (12,)\n",
      "\n",
      "Reshaped Array: \n",
      " [[[ 1  2  3]\n",
      "  [ 4  5  6]]\n",
      "\n",
      " [[ 7  8  9]\n",
      "  [10 11 12]]] \n",
      "Shape:  (2, 2, 3)\n"
     ]
    }
   ],
   "source": [
    "arr1 = np.array([1, 2, 3, 4, 5, 6, 7, 8, 9, 10, 11, 12])\n",
    "print(\"Original Array: \", arr1, \"\\nShape: \", arr1.shape)\n",
    "\n",
    "arr2 = np.reshape(arr1, (2, 2, 3))\n",
    "print(\"\\nReshaped Array: \\n\", arr2, \"\\nShape: \", arr2.shape)"
   ]
  },
  {
   "cell_type": "code",
   "execution_count": null,
   "id": "0ae55f3e",
   "metadata": {},
   "outputs": [],
   "source": []
  },
  {
   "cell_type": "markdown",
   "id": "45b75ac2",
   "metadata": {},
   "source": [
    "**Example 3:** Flattening Arrays. You can convert an array of an unknown dimension to a 1D array using `np.reshape(-1) `"
   ]
  },
  {
   "cell_type": "code",
   "execution_count": 71,
   "id": "ae8a7890",
   "metadata": {},
   "outputs": [
    {
     "name": "stdout",
     "output_type": "stream",
     "text": [
      "Original Array: \n",
      " [[ 1  2  3]\n",
      " [ 6  7  8]\n",
      " [ 4  5  6]\n",
      " [11 14 10]] \n",
      "Shape:  (4, 3)\n",
      "\n",
      "Reshaped Array: \n",
      " [ 1  2  3  6  7  8  4  5  6 11 14 10] \n",
      "Shape:  (12,)\n"
     ]
    }
   ],
   "source": [
    "arr1 = np.array([[1, 2, 3], [6, 7, 8], [4, 5, 6], [11, 14, 10]])\n",
    "print(\"Original Array: \\n\", arr1, \"\\nShape: \", arr1.shape)\n",
    "\n",
    "arr2 = np.reshape(arr1, (-1))\n",
    "print(\"\\nReshaped Array: \\n\", arr2, \"\\nShape: \", arr2.shape)\n",
    "#arr2[0]=100\n",
    "#arr2 , arr1"
   ]
  },
  {
   "cell_type": "markdown",
   "id": "2bbb0874",
   "metadata": {},
   "source": [
    "**Example 4:** Reshaping an array back to its original dimensions. If you applied the `np.reshape()` method to an array and you want to get the original shape of the array back, you can call the reshape method on that array again."
   ]
  },
  {
   "cell_type": "code",
   "execution_count": 73,
   "id": "9c9b67fb",
   "metadata": {},
   "outputs": [
    {
     "name": "stdout",
     "output_type": "stream",
     "text": [
      "Original Array: \n",
      " [[ 1  2  3]\n",
      " [ 6  7  8]\n",
      " [ 4  5  6]\n",
      " [11 14 10]] \n",
      "Shape:  (4, 3)\n",
      "\n",
      "Reshaped Array: \n",
      " [[ 1  2  3  6  7  8]\n",
      " [ 4  5  6 11 14 10]] \n",
      "Shape:  (2, 6)\n",
      "\n",
      "Reshaped to Original Shape: \n",
      " [[ 1  2  3]\n",
      " [ 6  7  8]\n",
      " [ 4  5  6]\n",
      " [11 14 10]] \n",
      "Shape:  (4, 3)\n"
     ]
    }
   ],
   "source": [
    "arr1 = np.array([[1, 2, 3], [6, 7, 8], [4, 5, 6], [11, 14, 10]])\n",
    "print(\"Original Array: \\n\", arr1, \"\\nShape: \", arr1.shape)\n",
    "\n",
    "arr2 = np.reshape(arr1, (2, 6))\n",
    "print(\"\\nReshaped Array: \\n\", arr2, \"\\nShape: \", arr2.shape)\n",
    "\n",
    "# covert the array into original shape again\n",
    "arr3 = np.reshape(arr2, (4,3))\n",
    "print(\"\\nReshaped to Original Shape: \\n\", arr3, \"\\nShape: \", arr3.shape)"
   ]
  },
  {
   "cell_type": "markdown",
   "id": "94ec61b2",
   "metadata": {},
   "source": [
    "**Example 5:** You can reshape to any shape, the only requirement is that the total elements in both the arrays should be same"
   ]
  },
  {
   "cell_type": "code",
   "execution_count": 79,
   "id": "87a7f813",
   "metadata": {},
   "outputs": [
    {
     "ename": "ValueError",
     "evalue": "cannot reshape array of size 9 into shape (3,2)",
     "output_type": "error",
     "traceback": [
      "\u001b[1;31m---------------------------------------------------------------------------\u001b[0m",
      "\u001b[1;31mValueError\u001b[0m                                Traceback (most recent call last)",
      "Cell \u001b[1;32mIn[79], line 2\u001b[0m\n\u001b[0;32m      1\u001b[0m arr1 \u001b[38;5;241m=\u001b[39m np\u001b[38;5;241m.\u001b[39marray([\u001b[38;5;241m1\u001b[39m, \u001b[38;5;241m2\u001b[39m, \u001b[38;5;241m3\u001b[39m, \u001b[38;5;241m4\u001b[39m, \u001b[38;5;241m5\u001b[39m, \u001b[38;5;241m6\u001b[39m, \u001b[38;5;241m7\u001b[39m, \u001b[38;5;241m8\u001b[39m, \u001b[38;5;241m9\u001b[39m])\n\u001b[1;32m----> 2\u001b[0m arr2 \u001b[38;5;241m=\u001b[39m np\u001b[38;5;241m.\u001b[39mreshape(arr1, (\u001b[38;5;241m3\u001b[39m, \u001b[38;5;241m2\u001b[39m))\n\u001b[0;32m      3\u001b[0m arr2\n",
      "File \u001b[1;32m<__array_function__ internals>:200\u001b[0m, in \u001b[0;36mreshape\u001b[1;34m(*args, **kwargs)\u001b[0m\n",
      "File \u001b[1;32m~\\anaconda3\\Lib\\site-packages\\numpy\\core\\fromnumeric.py:298\u001b[0m, in \u001b[0;36mreshape\u001b[1;34m(a, newshape, order)\u001b[0m\n\u001b[0;32m    198\u001b[0m \u001b[38;5;129m@array_function_dispatch\u001b[39m(_reshape_dispatcher)\n\u001b[0;32m    199\u001b[0m \u001b[38;5;28;01mdef\u001b[39;00m \u001b[38;5;21mreshape\u001b[39m(a, newshape, order\u001b[38;5;241m=\u001b[39m\u001b[38;5;124m'\u001b[39m\u001b[38;5;124mC\u001b[39m\u001b[38;5;124m'\u001b[39m):\n\u001b[0;32m    200\u001b[0m \u001b[38;5;250m    \u001b[39m\u001b[38;5;124;03m\"\"\"\u001b[39;00m\n\u001b[0;32m    201\u001b[0m \u001b[38;5;124;03m    Gives a new shape to an array without changing its data.\u001b[39;00m\n\u001b[0;32m    202\u001b[0m \n\u001b[1;32m   (...)\u001b[0m\n\u001b[0;32m    296\u001b[0m \u001b[38;5;124;03m           [5, 6]])\u001b[39;00m\n\u001b[0;32m    297\u001b[0m \u001b[38;5;124;03m    \"\"\"\u001b[39;00m\n\u001b[1;32m--> 298\u001b[0m     \u001b[38;5;28;01mreturn\u001b[39;00m _wrapfunc(a, \u001b[38;5;124m'\u001b[39m\u001b[38;5;124mreshape\u001b[39m\u001b[38;5;124m'\u001b[39m, newshape, order\u001b[38;5;241m=\u001b[39morder)\n",
      "File \u001b[1;32m~\\anaconda3\\Lib\\site-packages\\numpy\\core\\fromnumeric.py:57\u001b[0m, in \u001b[0;36m_wrapfunc\u001b[1;34m(obj, method, *args, **kwds)\u001b[0m\n\u001b[0;32m     54\u001b[0m     \u001b[38;5;28;01mreturn\u001b[39;00m _wrapit(obj, method, \u001b[38;5;241m*\u001b[39margs, \u001b[38;5;241m*\u001b[39m\u001b[38;5;241m*\u001b[39mkwds)\n\u001b[0;32m     56\u001b[0m \u001b[38;5;28;01mtry\u001b[39;00m:\n\u001b[1;32m---> 57\u001b[0m     \u001b[38;5;28;01mreturn\u001b[39;00m bound(\u001b[38;5;241m*\u001b[39margs, \u001b[38;5;241m*\u001b[39m\u001b[38;5;241m*\u001b[39mkwds)\n\u001b[0;32m     58\u001b[0m \u001b[38;5;28;01mexcept\u001b[39;00m \u001b[38;5;167;01mTypeError\u001b[39;00m:\n\u001b[0;32m     59\u001b[0m     \u001b[38;5;66;03m# A TypeError occurs if the object does have such a method in its\u001b[39;00m\n\u001b[0;32m     60\u001b[0m     \u001b[38;5;66;03m# class, but its signature is not identical to that of NumPy's. This\u001b[39;00m\n\u001b[1;32m   (...)\u001b[0m\n\u001b[0;32m     64\u001b[0m     \u001b[38;5;66;03m# Call _wrapit from within the except clause to ensure a potential\u001b[39;00m\n\u001b[0;32m     65\u001b[0m     \u001b[38;5;66;03m# exception has a traceback chain.\u001b[39;00m\n\u001b[0;32m     66\u001b[0m     \u001b[38;5;28;01mreturn\u001b[39;00m _wrapit(obj, method, \u001b[38;5;241m*\u001b[39margs, \u001b[38;5;241m*\u001b[39m\u001b[38;5;241m*\u001b[39mkwds)\n",
      "\u001b[1;31mValueError\u001b[0m: cannot reshape array of size 9 into shape (3,2)"
     ]
    }
   ],
   "source": [
    "arr1 = np.array([1, 2, 3, 4, 5, 6, 7, 8, 9])\n",
    "arr2 = np.reshape(arr1, (3, 2))\n",
    "arr2"
   ]
  },
  {
   "cell_type": "markdown",
   "id": "8b2e1617",
   "metadata": {},
   "source": [
    "### c.  Use `np.resize()` Method\n",
    "```\n",
    "np.resize(arr, newshape)\n",
    "```\n",
    "- Like `np.reshape()` method, the `np.resize()` method also takes the input array and a tuple that defines the shape of the array, with one main difference and that is:\n",
    "    - If the `newshape` argument mismatch with the size of `arr`, it do not raise error. The new array is formed from the data in the old array, repeated if necessary to fill out the required number of elements.  "
   ]
  },
  {
   "cell_type": "markdown",
   "id": "a4d0d83c",
   "metadata": {},
   "source": [
    "**Example 1:** Resizing from 1-D numPy Arrays to 2-D numPy Arrays. The new array doesn’t share the same memory with the original array. The data change in one array is not mapped to the other."
   ]
  },
  {
   "cell_type": "code",
   "execution_count": 81,
   "id": "0ab3c202",
   "metadata": {},
   "outputs": [
    {
     "name": "stdout",
     "output_type": "stream",
     "text": [
      "Original Array:  [1 2 3 4 5 6] \n",
      "Shape:  (6,)\n"
     ]
    }
   ],
   "source": [
    "arr1 = np.array([1, 2, 3, 4, 5, 6])\n",
    "print(\"Original Array: \", arr1, \"\\nShape: \", arr1.shape)"
   ]
  },
  {
   "cell_type": "code",
   "execution_count": 83,
   "id": "b99e6eb1",
   "metadata": {},
   "outputs": [
    {
     "name": "stdout",
     "output_type": "stream",
     "text": [
      "Resized Array: \n",
      " [[1 2 3]\n",
      " [4 5 6]] \n",
      "Shape:  (2, 3)\n"
     ]
    }
   ],
   "source": [
    "# Changing the dimension of array using reshape()\n",
    "arr2 = np.resize(arr1, (2, 3))\n",
    "print(\"Resized Array: \\n\", arr2, \"\\nShape: \", arr2.shape)"
   ]
  },
  {
   "cell_type": "code",
   "execution_count": 85,
   "id": "7fad9f62",
   "metadata": {},
   "outputs": [
    {
     "name": "stdout",
     "output_type": "stream",
     "text": [
      "Original Array:  [1 2 3 4 5 6]\n",
      "Resized Array: \n",
      " [[99  2  3]\n",
      " [ 4  5  6]]\n",
      "id(arr1):  1853248411600\n",
      "id(arr2):  1853248414096\n"
     ]
    }
   ],
   "source": [
    "# make change in one of the arrays, the change is NOT reflected in both\n",
    "arr2[0][0] = 99\n",
    "print(\"Original Array: \", arr1)\n",
    "print(\"Resized Array: \\n\", arr2)\n",
    "print(\"id(arr1): \", id(arr1))\n",
    "print(\"id(arr2): \",id(arr2))"
   ]
  },
  {
   "cell_type": "markdown",
   "id": "e89ceefa",
   "metadata": {},
   "source": [
    "**Example 2:** The `np.resize()` method allows you to resize an array to a new array having larger size than the original array. In this scenario, it fills the remaining array with repeated copies of original array elements"
   ]
  },
  {
   "cell_type": "code",
   "execution_count": 87,
   "id": "03c6399a",
   "metadata": {},
   "outputs": [
    {
     "name": "stdout",
     "output_type": "stream",
     "text": [
      "Original Array:  [1 2 3 4 5 6] \n",
      "Shape:  (6,)\n"
     ]
    }
   ],
   "source": [
    "arr1 = np.array([1, 2, 3, 4, 5, 6])\n",
    "print(\"Original Array: \", arr1, \"\\nShape: \", arr1.shape)"
   ]
  },
  {
   "cell_type": "code",
   "execution_count": 89,
   "id": "c6269d25",
   "metadata": {},
   "outputs": [
    {
     "name": "stdout",
     "output_type": "stream",
     "text": [
      "\n",
      "Resized Array: \n",
      " [[1 2 3 4]\n",
      " [5 6 1 2]\n",
      " [3 4 5 6]\n",
      " [1 2 3 4]] \n",
      "Shape:  (4, 4)\n"
     ]
    }
   ],
   "source": [
    "arr2 = np.resize(arr1, (4,4))\n",
    "print(\"\\nResized Array: \\n\", arr2, \"\\nShape: \", arr2.shape)"
   ]
  },
  {
   "cell_type": "code",
   "execution_count": null,
   "id": "124f0657",
   "metadata": {},
   "outputs": [],
   "source": []
  },
  {
   "cell_type": "code",
   "execution_count": null,
   "id": "548fd15e",
   "metadata": {},
   "outputs": [],
   "source": []
  },
  {
   "cell_type": "markdown",
   "id": "4b3e3b28",
   "metadata": {},
   "source": [
    "**Example 3:** The `np.resize()` method allows you to resize an array to a new array having smaller size than the original array."
   ]
  },
  {
   "cell_type": "code",
   "execution_count": 91,
   "id": "63e4c2c7",
   "metadata": {},
   "outputs": [
    {
     "name": "stdout",
     "output_type": "stream",
     "text": [
      "Original Array:  [1 2 3 4 5 6 7 8] \n",
      "Shape:  (8,)\n"
     ]
    }
   ],
   "source": [
    "arr1 = np.array([1, 2, 3, 4, 5, 6, 7, 8])\n",
    "print(\"Original Array: \", arr1, \"\\nShape: \", arr1.shape)"
   ]
  },
  {
   "cell_type": "code",
   "execution_count": 93,
   "id": "45c79d08",
   "metadata": {},
   "outputs": [
    {
     "name": "stdout",
     "output_type": "stream",
     "text": [
      "\n",
      "Resized Array: \n",
      " [[1 2]\n",
      " [3 4]\n",
      " [5 6]] \n",
      "Shape:  (3, 2)\n"
     ]
    }
   ],
   "source": [
    "arr2 = np.resize(arr1, (3, 2))\n",
    "print(\"\\nResized Array: \\n\", arr2, \"\\nShape: \", arr2.shape)"
   ]
  },
  {
   "cell_type": "markdown",
   "id": "5f8e1f7c",
   "metadata": {},
   "source": [
    "### d. The `ndarray.transpose()` Method\n",
    "```\n",
    "ndarray.transpose()\n",
    "```\n",
    "- It has no impact on 1-D array\n",
    "- For a 2-D array, this is a standard matrix transpose.\n",
    "- For an n-D array, if axes are given, their order indicates how the axes are permuted\n",
    "- Returns a view of the array with axes transposed, so this is an in-place operation."
   ]
  },
  {
   "cell_type": "code",
   "execution_count": 95,
   "id": "5e407a2d",
   "metadata": {},
   "outputs": [
    {
     "name": "stdout",
     "output_type": "stream",
     "text": [
      "Original Array: \n",
      " [[1 2 3 4]\n",
      " [5 6 7 8]] \n",
      "Shape:  (2, 4)\n",
      "\n",
      "Transposed array: \n",
      " [[1 5]\n",
      " [2 6]\n",
      " [3 7]\n",
      " [4 8]] \n",
      "Shape:  (4, 2)\n",
      "\n",
      "Original Array: \n",
      " [[ 1  2  3  4]\n",
      " [ 5 99  7  8]]\n",
      "Transposed Array: \n",
      " [[ 1  5]\n",
      " [ 2 99]\n",
      " [ 3  7]\n",
      " [ 4  8]]\n"
     ]
    }
   ],
   "source": [
    "arr1 = np.array([[1, 2, 3, 4], [5, 6, 7, 8]])\n",
    "print(\"Original Array: \\n\", arr1, \"\\nShape: \", arr1.shape)\n",
    "\n",
    "#Reshape array using transpose method\n",
    "arr2 = arr1.transpose()\n",
    "print(\"\\nTransposed array: \\n\", arr2,  \"\\nShape: \", arr2.shape)\n",
    "\n",
    "## make change in one of the arrays, the change is reflected in both\n",
    "arr2[1][1] = 99\n",
    "print(\"\\nOriginal Array: \\n\", arr1)\n",
    "print(\"Transposed Array: \\n\", arr2)"
   ]
  },
  {
   "cell_type": "markdown",
   "id": "093dc697",
   "metadata": {},
   "source": [
    "### e. The `np.swapaxes()` Method\n",
    "- The `np.swapaxes()` method is used to interchange two axes of an array.\n",
    "```\n",
    "np.swapaxes(arr, axis1, axis2)\n",
    "```\n",
    "    - `arr`: Input array whose axes are to be swapped\n",
    "    - `axis1`: First axis\n",
    "    - `axis2`: Second axis\n",
    "\n",
    "- For NumPy >= 1.10.0, if `arr` is an ndarray, then a view of `arr` is returned."
   ]
  },
  {
   "cell_type": "markdown",
   "id": "eb183fcd",
   "metadata": {},
   "source": [
    "**Example 1:** Swapping axes of a 2-D array"
   ]
  },
  {
   "cell_type": "code",
   "execution_count": 97,
   "id": "76e10f42",
   "metadata": {},
   "outputs": [
    {
     "name": "stdout",
     "output_type": "stream",
     "text": [
      "Original Array: \n",
      " [[0 1 2 3]\n",
      " [4 5 6 7]] \n",
      "Shape:  (2, 4)\n"
     ]
    }
   ],
   "source": [
    "arr1 = np.arange(8).reshape(2,4) \n",
    "print(\"Original Array: \\n\", arr1, \"\\nShape: \", arr1.shape)"
   ]
  },
  {
   "cell_type": "code",
   "execution_count": 99,
   "id": "2d196d85",
   "metadata": {},
   "outputs": [
    {
     "name": "stdout",
     "output_type": "stream",
     "text": [
      "\n",
      "New array: \n",
      " [[0 4]\n",
      " [1 5]\n",
      " [2 6]\n",
      " [3 7]] \n",
      "Shape:  (4, 2)\n"
     ]
    }
   ],
   "source": [
    "#Reshape array using swapaxes() method\n",
    "arr2 = np.swapaxes(arr1,0, 1)\n",
    "print(\"\\nNew array: \\n\", arr2,  \"\\nShape: \", arr2.shape)"
   ]
  },
  {
   "cell_type": "code",
   "execution_count": 101,
   "id": "c1980410",
   "metadata": {},
   "outputs": [
    {
     "name": "stdout",
     "output_type": "stream",
     "text": [
      "\n",
      "Original Array: \n",
      " [[ 0  1  2  3]\n",
      " [ 4 99  6  7]]\n",
      "\n",
      "New Array: \n",
      " [[ 0  4]\n",
      " [ 1 99]\n",
      " [ 2  6]\n",
      " [ 3  7]]\n"
     ]
    }
   ],
   "source": [
    "## make change in one of the arrays, the change is reflected in both\n",
    "arr2[1][1] = 99\n",
    "print(\"\\nOriginal Array: \\n\", arr1)\n",
    "print(\"\\nNew Array: \\n\", arr2)"
   ]
  },
  {
   "cell_type": "markdown",
   "id": "01515efd",
   "metadata": {},
   "source": [
    "**Example 2:** Swapping axes of a 3-D array"
   ]
  },
  {
   "cell_type": "code",
   "execution_count": 103,
   "id": "32c3c7a8",
   "metadata": {},
   "outputs": [
    {
     "name": "stdout",
     "output_type": "stream",
     "text": [
      "Original Array: \n",
      " [[[0 1]\n",
      "  [2 3]]\n",
      "\n",
      " [[4 5]\n",
      "  [6 7]]] \n",
      "Shape:  (2, 2, 2)\n"
     ]
    }
   ],
   "source": [
    "arr1 = np.arange(8).reshape(2,2,2) \n",
    "print(\"Original Array: \\n\", arr1, \"\\nShape: \", arr1.shape)"
   ]
  },
  {
   "cell_type": "code",
   "execution_count": 109,
   "id": "f156b03b",
   "metadata": {},
   "outputs": [
    {
     "name": "stdout",
     "output_type": "stream",
     "text": [
      "\n",
      "New array: \n",
      " [[[0 4]\n",
      "  [2 6]]\n",
      "\n",
      " [[1 5]\n",
      "  [3 7]]] \n",
      "Shape:  (2, 2, 2)\n"
     ]
    }
   ],
   "source": [
    "#Reshape array using swapaxes() method\n",
    "arr2 = np.swapaxes(arr1,2, 0)\n",
    "print(\"\\nNew array: \\n\", arr2,  \"\\nShape: \", arr2.shape)"
   ]
  },
  {
   "cell_type": "markdown",
   "id": "d514bdfc",
   "metadata": {},
   "source": [
    "### f. The `ndarray.flatten()` Method\n",
    "- The `ndarry.flatten()` method is used to flatten a Multi-Dimensional array/matrix to one dimension. \n",
    "```\n",
    "ndarray.flatten(order= 'C')\n",
    "```\n",
    "   - Default order is 'C’, means to flatten in row-major order. \n",
    "   - You can pass ‘F’ (FORTRAN) means to flatten in column-major.\n",
    "- Returns a copy of the array, flattened to one dimension."
   ]
  },
  {
   "cell_type": "code",
   "execution_count": 111,
   "id": "feaddafa",
   "metadata": {},
   "outputs": [
    {
     "name": "stdout",
     "output_type": "stream",
     "text": [
      "Original Array: \n",
      " [[ 0  1  2]\n",
      " [ 3  4  5]\n",
      " [ 6  7  8]\n",
      " [ 9 10 11]] \n",
      "Dimensions:  2\n"
     ]
    }
   ],
   "source": [
    "arr1 = np.arange(12).reshape(4,3) \n",
    "print(\"Original Array: \\n\", arr1, \"\\nDimensions: \", arr1.ndim)"
   ]
  },
  {
   "cell_type": "code",
   "execution_count": 113,
   "id": "ccfaf430",
   "metadata": {},
   "outputs": [
    {
     "name": "stdout",
     "output_type": "stream",
     "text": [
      "\n",
      "Flattened array in row major order \n",
      " [ 0  1  2  3  4  5  6  7  8  9 10 11] \n",
      "Dimensions:  1\n",
      "\n",
      "Flattened array in cloumn major order \n",
      " [ 0  3  6  9  1  4  7 10  2  5  8 11] \n",
      "Dimensions:  1\n"
     ]
    }
   ],
   "source": [
    "# flatten the array in row-major order\n",
    "arr2 = arr1.flatten(order = 'C')\n",
    "print(\"\\nFlattened array in row major order \\n\", arr2, \"\\nDimensions: \", arr2.ndim)\n",
    "\n",
    "# flatten the array in column-major order\n",
    "arr3 = arr1.flatten(order = 'F')\n",
    "print(\"\\nFlattened array in cloumn major order \\n\", arr3, \"\\nDimensions: \", arr3.ndim)"
   ]
  },
  {
   "cell_type": "code",
   "execution_count": null,
   "id": "3dfcc37a",
   "metadata": {},
   "outputs": [],
   "source": []
  },
  {
   "cell_type": "markdown",
   "id": "3eaaeab6",
   "metadata": {},
   "source": [
    "## 3. Sorting Arrays using `np.sort()` Method\n",
    "- The `np.sort()` method returns a sorted copy of an array.\n",
    "- If axis is not specified, values can be of any shape and will be flattened before use\n",
    "```\n",
    "np.sort(arr1, axis=-1, kind=None)\n",
    "```\n",
    "    - `arr` : Array to be sorted.\n",
    "    - `axis` : Axis along which we need array to be started. The default is -1, which sorts along the last axis. 0 stands for sorting along first axis. If metioned None, the array is flattened before sorting.\n",
    "    - `kind` : default is 'quicksort', others can be 'mergesort', 'heapsort'"
   ]
  },
  {
   "cell_type": "markdown",
   "id": "81262fcf",
   "metadata": {},
   "source": [
    "### a. Sorting a 1-D Array"
   ]
  },
  {
   "cell_type": "code",
   "execution_count": 115,
   "id": "d9a041db",
   "metadata": {},
   "outputs": [
    {
     "name": "stdout",
     "output_type": "stream",
     "text": [
      "arr1 =  [66 25 66 47 89]\n"
     ]
    }
   ],
   "source": [
    "import numpy as np\n",
    "arr1 = np.random.randint(low = 1, high = 100, size = 5)\n",
    "print(\"arr1 = \", arr1)"
   ]
  },
  {
   "cell_type": "code",
   "execution_count": 117,
   "id": "deef6f22",
   "metadata": {},
   "outputs": [
    {
     "name": "stdout",
     "output_type": "stream",
     "text": [
      "arr2 =  [25 47 66 66 89]\n"
     ]
    }
   ],
   "source": [
    "arr2 = np.sort(arr1)\n",
    "print(\"arr2 = \", arr2)"
   ]
  },
  {
   "cell_type": "markdown",
   "id": "791d8537",
   "metadata": {},
   "source": [
    "### b. Sorting a 2-D Array"
   ]
  },
  {
   "cell_type": "markdown",
   "id": "14e9a50f",
   "metadata": {},
   "source": [
    "**Example 1:** Sorting a 2-D array with `axis=None`, array is flattened before sorting"
   ]
  },
  {
   "cell_type": "code",
   "execution_count": 131,
   "id": "ff2f4f38",
   "metadata": {},
   "outputs": [
    {
     "name": "stdout",
     "output_type": "stream",
     "text": [
      "arr1: \n",
      " [[48 40 19]\n",
      " [66  8 14]\n",
      " [ 5  1 23]]\n"
     ]
    }
   ],
   "source": [
    "arr1 = np.random.randint(low = 1, high = 100, size = (3,3))\n",
    "print(\"arr1: \\n\", arr1)"
   ]
  },
  {
   "cell_type": "code",
   "execution_count": 135,
   "id": "4e887b13",
   "metadata": {},
   "outputs": [
    {
     "name": "stdout",
     "output_type": "stream",
     "text": [
      "\n",
      "Sorting along axis=None: \n",
      " [ 1  5  8 14 19 23 40 48 66]\n"
     ]
    }
   ],
   "source": [
    "arr2 = np.sort(arr1, axis = None)        \n",
    "print (\"\\nSorting along axis=None: \\n\", arr2)"
   ]
  },
  {
   "cell_type": "markdown",
   "id": "666addfa",
   "metadata": {},
   "source": [
    "**Example 2:** Sorting a 2-D array with `axis=0`, vertical axis, top to bottom"
   ]
  },
  {
   "cell_type": "code",
   "execution_count": 123,
   "id": "d271af63",
   "metadata": {},
   "outputs": [
    {
     "name": "stdout",
     "output_type": "stream",
     "text": [
      "arr1 = \n",
      " [[9 3 5]\n",
      " [3 4 2]\n",
      " [2 9 5]]\n"
     ]
    }
   ],
   "source": [
    "arr1 = np.random.randint(low = 1, high = 10, size = (3,3))\n",
    "print(\"arr1 = \\n\", arr1)"
   ]
  },
  {
   "cell_type": "code",
   "execution_count": 125,
   "id": "de11180e",
   "metadata": {},
   "outputs": [
    {
     "name": "stdout",
     "output_type": "stream",
     "text": [
      "\n",
      "Sorting along axis=0: \n",
      " [[2 3 2]\n",
      " [3 4 5]\n",
      " [9 9 5]]\n"
     ]
    }
   ],
   "source": [
    "arr2 = np.sort(arr1, axis = 0)        \n",
    "print (\"\\nSorting along axis=0: \\n\", arr2)      "
   ]
  },
  {
   "cell_type": "markdown",
   "id": "1315698b",
   "metadata": {},
   "source": [
    "**Example 3:** Sorting a 2-D array with `axis=1`, horizontal axis, left to right"
   ]
  },
  {
   "cell_type": "code",
   "execution_count": 127,
   "id": "4a1c96be",
   "metadata": {},
   "outputs": [
    {
     "name": "stdout",
     "output_type": "stream",
     "text": [
      "arr1 = \n",
      " [[4 6 8]\n",
      " [6 5 8]\n",
      " [5 7 9]]\n"
     ]
    }
   ],
   "source": [
    "arr1 = np.random.randint(low = 1, high = 10, size = (3,3))\n",
    "print(\"arr1 = \\n\", arr1)"
   ]
  },
  {
   "cell_type": "code",
   "execution_count": 129,
   "id": "e469a9ba",
   "metadata": {},
   "outputs": [
    {
     "name": "stdout",
     "output_type": "stream",
     "text": [
      "\n",
      "Sorting along axis=1: \n",
      " [[4 6 8]\n",
      " [5 6 8]\n",
      " [5 7 9]]\n"
     ]
    }
   ],
   "source": [
    "arr2 = np.sort(arr1, axis = 1)        \n",
    "print (\"\\nSorting along axis=1: \\n\", arr2) "
   ]
  },
  {
   "cell_type": "markdown",
   "id": "337a26a6",
   "metadata": {},
   "source": [
    "## 4. Iterating numPy Arrays\n",
    "- Iterating over `ndarrays` is very similar to iterating over regular python arrays. \n",
    "- Remember, iterating over multidimensional arrays is done with respect to the first axis."
   ]
  },
  {
   "cell_type": "markdown",
   "id": "cc2536b3",
   "metadata": {},
   "source": [
    "**Example 1:** Iterating over 1-D numPy array"
   ]
  },
  {
   "cell_type": "code",
   "execution_count": 16,
   "id": "ac0b0562",
   "metadata": {},
   "outputs": [
    {
     "data": {
      "text/plain": [
       "array([ 0,  1,  2,  3,  4,  5,  6,  7,  8,  9, 10, 11])"
      ]
     },
     "execution_count": 16,
     "metadata": {},
     "output_type": "execute_result"
    }
   ],
   "source": [
    "arr1 = np.arange(12)\n",
    "arr1"
   ]
  },
  {
   "cell_type": "code",
   "execution_count": 19,
   "id": "ef4e70d1",
   "metadata": {},
   "outputs": [
    {
     "name": "stdout",
     "output_type": "stream",
     "text": [
      "0 2 4 6 8 10 12 14 16 18 20 22 "
     ]
    }
   ],
   "source": [
    "for value in arr1:\n",
    "    a=value*2\n",
    "    print(a, end=' ')"
   ]
  },
  {
   "cell_type": "code",
   "execution_count": null,
   "id": "8066021b",
   "metadata": {},
   "outputs": [],
   "source": []
  },
  {
   "cell_type": "markdown",
   "id": "7d5ccb09",
   "metadata": {},
   "source": [
    "**Example 2:** Iterating over 2-D numPy array is done w.r.t first axis, i.e., zero axis (column wise). In simple words in the first iteration you will get the first row, in second iteration you will get the 2nd row and so on..."
   ]
  },
  {
   "cell_type": "code",
   "execution_count": 137,
   "id": "56eb5662",
   "metadata": {},
   "outputs": [
    {
     "name": "stdout",
     "output_type": "stream",
     "text": [
      "arr1: \n",
      " [[ 0  1  2]\n",
      " [ 3  4  5]\n",
      " [ 6  7  8]\n",
      " [ 9 10 11]]\n"
     ]
    }
   ],
   "source": [
    "arr1 = np.arange(12).reshape(4, 3)\n",
    "print(\"arr1: \\n\",arr1)"
   ]
  },
  {
   "cell_type": "code",
   "execution_count": 139,
   "id": "d3e7a573",
   "metadata": {},
   "outputs": [
    {
     "name": "stdout",
     "output_type": "stream",
     "text": [
      "Iteration:\n",
      "[0 1 2]\n",
      "Iteration:\n",
      "[3 4 5]\n",
      "Iteration:\n",
      "[6 7 8]\n",
      "Iteration:\n",
      "[ 9 10 11]\n"
     ]
    }
   ],
   "source": [
    "for zero_axis in arr1:\n",
    "    print(\"Iteration:\")\n",
    "    print(zero_axis)"
   ]
  },
  {
   "cell_type": "markdown",
   "id": "bd19a3b8",
   "metadata": {},
   "source": [
    "**Example 3:** Iterating over 2-D numPy array"
   ]
  },
  {
   "cell_type": "code",
   "execution_count": 141,
   "id": "e44d5358",
   "metadata": {},
   "outputs": [
    {
     "name": "stdout",
     "output_type": "stream",
     "text": [
      "arr1: \n",
      " [[0 1 2 3]\n",
      " [4 5 6 7]]\n"
     ]
    }
   ],
   "source": [
    "arr1 = np.arange(8).reshape(2, 4)\n",
    "print(\"arr1: \\n\",arr1)"
   ]
  },
  {
   "cell_type": "code",
   "execution_count": 143,
   "id": "1ea61da8",
   "metadata": {},
   "outputs": [
    {
     "name": "stdout",
     "output_type": "stream",
     "text": [
      "Iteration:\n",
      "[0 1 2 3]\n",
      "Iteration:\n",
      "[4 5 6 7]\n"
     ]
    }
   ],
   "source": [
    "for zero_axis in arr1:\n",
    "    print(\"Iteration:\")\n",
    "    print(zero_axis)"
   ]
  },
  {
   "cell_type": "code",
   "execution_count": null,
   "id": "eaa270d8",
   "metadata": {},
   "outputs": [],
   "source": []
  },
  {
   "cell_type": "markdown",
   "id": "52c61e01",
   "metadata": {},
   "source": [
    "**Example 4:** Iterating over 3-D numPy array is done w.r.t first axis, i.e., zero axis (level wise). In simple words in the first iteration you will get the first row, in second iteration you will get the 2nd row and so on..."
   ]
  },
  {
   "cell_type": "code",
   "execution_count": 145,
   "id": "74c55b11",
   "metadata": {},
   "outputs": [
    {
     "name": "stdout",
     "output_type": "stream",
     "text": [
      "arr1: \n",
      " [[[ 0  1  2  3]\n",
      "  [ 4  5  6  7]\n",
      "  [ 8  9 10 11]]\n",
      "\n",
      " [[12 13 14 15]\n",
      "  [16 17 18 19]\n",
      "  [20 21 22 23]]]\n"
     ]
    }
   ],
   "source": [
    "arr1 = np.arange(24).reshape(2, 3, 4)\n",
    "print(\"arr1: \\n\",arr1)"
   ]
  },
  {
   "cell_type": "code",
   "execution_count": 153,
   "id": "895f30f8",
   "metadata": {},
   "outputs": [
    {
     "data": {
      "text/plain": [
       "18"
      ]
     },
     "execution_count": 153,
     "metadata": {},
     "output_type": "execute_result"
    }
   ],
   "source": [
    "arr1[1][1][2]"
   ]
  },
  {
   "cell_type": "code",
   "execution_count": 155,
   "id": "b758ed71",
   "metadata": {},
   "outputs": [
    {
     "name": "stdout",
     "output_type": "stream",
     "text": [
      "Iteration:\n",
      "[[ 0  1  2  3]\n",
      " [ 4  5  6  7]\n",
      " [ 8  9 10 11]]\n",
      "Iteration:\n",
      "[[12 13 14 15]\n",
      " [16 17 18 19]\n",
      " [20 21 22 23]]\n"
     ]
    }
   ],
   "source": [
    "for zero_axis in arr1:\n",
    "    print(\"Iteration:\")\n",
    "    print(zero_axis)"
   ]
  },
  {
   "cell_type": "markdown",
   "id": "e20436b2",
   "metadata": {},
   "source": [
    "**Example 5:** If you want to iterate on *all* elements in the `ndarray`, simply iterate over the `flat` attribute:"
   ]
  },
  {
   "cell_type": "code",
   "execution_count": 157,
   "id": "4a59aefd",
   "metadata": {},
   "outputs": [
    {
     "name": "stdout",
     "output_type": "stream",
     "text": [
      "arr1: \n",
      " [[ 0  1  2  3]\n",
      " [ 4  5  6  7]\n",
      " [ 8  9 10 11]]\n"
     ]
    }
   ],
   "source": [
    "arr1 = np.arange(12).reshape(3, 4)\n",
    "print(\"arr1: \\n\",arr1)"
   ]
  },
  {
   "cell_type": "code",
   "execution_count": 159,
   "id": "69c8b5b7",
   "metadata": {},
   "outputs": [
    {
     "name": "stdout",
     "output_type": "stream",
     "text": [
      "0 1 2 3 4 5 6 7 8 9 10 11 "
     ]
    }
   ],
   "source": [
    "for i in arr1.flat:\n",
    "    print(i, end=' ')"
   ]
  },
  {
   "cell_type": "code",
   "execution_count": null,
   "id": "2ce2845f",
   "metadata": {},
   "outputs": [],
   "source": []
  }
 ],
 "metadata": {
  "kernelspec": {
   "display_name": "Python 3 (ipykernel)",
   "language": "python",
   "name": "python3"
  },
  "language_info": {
   "codemirror_mode": {
    "name": "ipython",
    "version": 3
   },
   "file_extension": ".py",
   "mimetype": "text/x-python",
   "name": "python",
   "nbconvert_exporter": "python",
   "pygments_lexer": "ipython3",
   "version": "3.11.5"
  }
 },
 "nbformat": 4,
 "nbformat_minor": 5
}
