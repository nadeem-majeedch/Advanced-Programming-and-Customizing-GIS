{
 "cells": [
  {
   "cell_type": "markdown",
   "id": "ed455b47",
   "metadata": {},
   "source": [
    "---   \n",
    " <img align=\"left\" width=\"75\" height=\"75\"  src=\"../../../University_of_the_Punjab_logo.png\"> \n",
    "\n",
    "<h1 align=\"center\">Department of Data Science</h1>\n",
    "<h1 align=\"center\">Data Science Journey from Beginners to Expert</h1>\n",
    "\n",
    "---\n",
    "<h3><div align=\"right\">Instructor: Engr. Muhammad Nadeem Majeed, Ph.D.</div></h3>    "
   ]
  },
  {
   "cell_type": "markdown",
   "id": "453283b9",
   "metadata": {},
   "source": [
    "<h1 align=\"center\">Creating Modules (Part - I)</h1>"
   ]
  },
  {
   "cell_type": "markdown",
   "id": "c041eac7",
   "metadata": {},
   "source": [
    "## _Creating_Modules.ipynb_"
   ]
  },
  {
   "cell_type": "markdown",
   "id": "4a466ee0",
   "metadata": {},
   "source": [
    "<img align=\"center\" width=\"600\" height=\"600\"  src=\"../images/script.png\" > "
   ]
  },
  {
   "cell_type": "code",
   "execution_count": null,
   "id": "43edc47d",
   "metadata": {},
   "outputs": [],
   "source": []
  },
  {
   "cell_type": "code",
   "execution_count": null,
   "id": "597c5507",
   "metadata": {},
   "outputs": [],
   "source": []
  },
  {
   "cell_type": "markdown",
   "id": "0ef18912",
   "metadata": {},
   "source": [
    "<img align=\"center\" width=\"600\" height=\"600\"  src=\"../images/module1.png\" > "
   ]
  },
  {
   "cell_type": "code",
   "execution_count": null,
   "id": "17652508",
   "metadata": {},
   "outputs": [],
   "source": []
  },
  {
   "cell_type": "markdown",
   "id": "8ea00da3",
   "metadata": {},
   "source": [
    "<img align=\"center\" width=\"600\" height=\"600\"  src=\"../images/package.png\" > "
   ]
  },
  {
   "cell_type": "code",
   "execution_count": null,
   "id": "a7a3634c",
   "metadata": {},
   "outputs": [],
   "source": []
  },
  {
   "cell_type": "markdown",
   "id": "447ea2ac",
   "metadata": {},
   "source": [
    "<img align=\"center\" width=\"800\" height=\"800\"  src=\"../images/intro.png\" > "
   ]
  },
  {
   "cell_type": "code",
   "execution_count": null,
   "id": "bfdef8dc",
   "metadata": {},
   "outputs": [],
   "source": []
  },
  {
   "cell_type": "markdown",
   "id": "c84d6cd1",
   "metadata": {},
   "source": [
    "# Learning agenda of this notebook\n",
    "Modular Programming is a design technique to break your code into different parts. These parts in which we are breaking code into are called modules.\n",
    "\n",
    "**PART - I**\n",
    "1. Create a Module of your own\n",
    "2. Use the newly created module in this notebook file\n",
    "3. How Python locates a module?\n",
    "4. Reloading a module\n",
    "\n",
    "**PART - II**\n",
    "1. What are Python packages?\n",
    "2. How to create a Python Package?\n",
    "3. How to import modules from the package?"
   ]
  },
  {
   "cell_type": "code",
   "execution_count": null,
   "id": "8e9320fc",
   "metadata": {},
   "outputs": [],
   "source": []
  },
  {
   "cell_type": "markdown",
   "id": "4bf35ccf",
   "metadata": {},
   "source": [
    "## 1. Create a Module named _`mymodule`_\n",
    "- Create `mymodule.py` file as shown below in the current working directory, i.e., the directory in which this IPython Notebook file resides. "
   ]
  },
  {
   "cell_type": "markdown",
   "id": "8ff90697",
   "metadata": {},
   "source": [
    "#### mymodule.py\n",
    "```\n",
    "AUTHOR = 'Arif Butt'\n",
    "BATCH = 2021\n",
    "\n",
    "def myfactorial(num):\n",
    "    # code\n",
    "    \n",
    "\n",
    "def myindex(numbers, no):\n",
    "    # code\n",
    "\n",
    "def mysort(numbers, inplace=False):\n",
    "    # code\n",
    "```"
   ]
  },
  {
   "cell_type": "code",
   "execution_count": null,
   "id": "255458e3",
   "metadata": {},
   "outputs": [],
   "source": []
  },
  {
   "cell_type": "code",
   "execution_count": null,
   "id": "eddccc76",
   "metadata": {},
   "outputs": [],
   "source": []
  },
  {
   "cell_type": "markdown",
   "id": "0607638d",
   "metadata": {},
   "source": [
    "## 2. Use the Functions of `mymodule`"
   ]
  },
  {
   "cell_type": "code",
   "execution_count": 2,
   "id": "e4ffc4cd",
   "metadata": {},
   "outputs": [
    {
     "name": "stdout",
     "output_type": "stream",
     "text": [
      "['AUTHOR', 'BATCH', '__builtins__', '__cached__', '__doc__', '__file__', '__loader__', '__name__', '__package__', '__spec__', 'myfactorial', 'myindex', 'mysort']\n"
     ]
    }
   ],
   "source": [
    "import mymodule as mm\n",
    "print(dir(mm))"
   ]
  },
  {
   "cell_type": "code",
   "execution_count": 4,
   "id": "9ba22c8a",
   "metadata": {},
   "outputs": [
    {
     "data": {
      "text/plain": [
       "'Arif Butt'"
      ]
     },
     "execution_count": 4,
     "metadata": {},
     "output_type": "execute_result"
    }
   ],
   "source": [
    "mm.AUTHOR"
   ]
  },
  {
   "cell_type": "code",
   "execution_count": 6,
   "id": "193dfd67",
   "metadata": {},
   "outputs": [
    {
     "data": {
      "text/plain": [
       "<function mymodule.mysort(numbers, inplace=False)>"
      ]
     },
     "execution_count": 6,
     "metadata": {},
     "output_type": "execute_result"
    }
   ],
   "source": [
    "mm.mysort"
   ]
  },
  {
   "cell_type": "code",
   "execution_count": 3,
   "id": "0b43ffe2",
   "metadata": {},
   "outputs": [
    {
     "data": {
      "text/plain": [
       "'mymodule'"
      ]
     },
     "execution_count": 3,
     "metadata": {},
     "output_type": "execute_result"
    }
   ],
   "source": [
    "mm.__name__"
   ]
  },
  {
   "cell_type": "code",
   "execution_count": 22,
   "id": "7f3ae021",
   "metadata": {},
   "outputs": [
    {
     "data": {
      "text/plain": [
       "'C:\\\\Users\\\\Nadeem\\\\Desktop\\\\DataScienceJourney\\\\Section-2-Basics-of-Python-Programming\\\\2.15-Creating-Python-Modules-and-Packages\\\\module-files\\\\__pycache__\\\\mymodule.cpython-311.pyc'"
      ]
     },
     "execution_count": 22,
     "metadata": {},
     "output_type": "execute_result"
    }
   ],
   "source": [
    "mm.__cached__"
   ]
  },
  {
   "cell_type": "markdown",
   "id": "d12833ed",
   "metadata": {},
   "source": [
    ">- `.pyc` files are created by the Python interpreter when a `.py` file is imported. \n",
    ">- The `.pyc` file contain the **compiled bytecode** of the imported module, so that the \"translation\" from source code to bytecode (which only needs to be done once) can be skipped on subsequent imports to speed up startup.\n",
    ">- If the `.pyc` is older than the corresponding .py file, we do have to re-import it in our program.\n",
    ">- The `.pyc` file is still interpreted, however, cnce the `.pyc` file is generated, there is no need of `.py` file, unless you edit it."
   ]
  },
  {
   "cell_type": "code",
   "execution_count": 8,
   "id": "90a96624",
   "metadata": {},
   "outputs": [
    {
     "data": {
      "text/plain": [
       "{'__name__': 'builtins',\n",
       " '__doc__': \"Built-in functions, types, exceptions, and other objects.\\n\\nThis module provides direct access to all 'built-in'\\nidentifiers of Python; for example, builtins.len is\\nthe full name for the built-in function len().\\n\\nThis module is not normally accessed explicitly by most\\napplications, but can be useful in modules that provide\\nobjects with the same name as a built-in value, but in\\nwhich the built-in of that name is also needed.\",\n",
       " '__package__': '',\n",
       " '__loader__': _frozen_importlib.BuiltinImporter,\n",
       " '__spec__': ModuleSpec(name='builtins', loader=<class '_frozen_importlib.BuiltinImporter'>, origin='built-in'),\n",
       " '__build_class__': <function __build_class__>,\n",
       " '__import__': <function __import__(name, globals=None, locals=None, fromlist=(), level=0)>,\n",
       " 'abs': <function abs(x, /)>,\n",
       " 'all': <function all(iterable, /)>,\n",
       " 'any': <function any(iterable, /)>,\n",
       " 'ascii': <function ascii(obj, /)>,\n",
       " 'bin': <function bin(number, /)>,\n",
       " 'breakpoint': <function breakpoint>,\n",
       " 'callable': <function callable(obj, /)>,\n",
       " 'chr': <function chr(i, /)>,\n",
       " 'compile': <function compile(source, filename, mode, flags=0, dont_inherit=False, optimize=-1, *, _feature_version=-1)>,\n",
       " 'delattr': <function delattr(obj, name, /)>,\n",
       " 'dir': <function dir>,\n",
       " 'divmod': <function divmod(x, y, /)>,\n",
       " 'eval': <function eval(source, globals=None, locals=None, /)>,\n",
       " 'exec': <function exec(source, globals=None, locals=None, /, *, closure=None)>,\n",
       " 'format': <function format(value, format_spec='', /)>,\n",
       " 'getattr': <function getattr>,\n",
       " 'globals': <function globals()>,\n",
       " 'hasattr': <function hasattr(obj, name, /)>,\n",
       " 'hash': <function hash(obj, /)>,\n",
       " 'hex': <function hex(number, /)>,\n",
       " 'id': <function id(obj, /)>,\n",
       " 'input': <bound method Kernel.raw_input of <ipykernel.ipkernel.IPythonKernel object at 0x0000024893319990>>,\n",
       " 'isinstance': <function isinstance(obj, class_or_tuple, /)>,\n",
       " 'issubclass': <function issubclass(cls, class_or_tuple, /)>,\n",
       " 'iter': <function iter>,\n",
       " 'aiter': <function aiter(async_iterable, /)>,\n",
       " 'len': <function len(obj, /)>,\n",
       " 'locals': <function locals()>,\n",
       " 'max': <function max>,\n",
       " 'min': <function min>,\n",
       " 'next': <function next>,\n",
       " 'anext': <function anext>,\n",
       " 'oct': <function oct(number, /)>,\n",
       " 'ord': <function ord(c, /)>,\n",
       " 'pow': <function pow(base, exp, mod=None)>,\n",
       " 'print': <function print(*args, sep=' ', end='\\n', file=None, flush=False)>,\n",
       " 'repr': <function repr(obj, /)>,\n",
       " 'round': <function round(number, ndigits=None)>,\n",
       " 'setattr': <function setattr(obj, name, value, /)>,\n",
       " 'sorted': <function sorted(iterable, /, *, key=None, reverse=False)>,\n",
       " 'sum': <function sum(iterable, /, start=0)>,\n",
       " 'vars': <function vars>,\n",
       " 'None': None,\n",
       " 'Ellipsis': Ellipsis,\n",
       " 'NotImplemented': NotImplemented,\n",
       " 'False': False,\n",
       " 'True': True,\n",
       " 'bool': bool,\n",
       " 'memoryview': memoryview,\n",
       " 'bytearray': bytearray,\n",
       " 'bytes': bytes,\n",
       " 'classmethod': classmethod,\n",
       " 'complex': complex,\n",
       " 'dict': dict,\n",
       " 'enumerate': enumerate,\n",
       " 'filter': filter,\n",
       " 'float': float,\n",
       " 'frozenset': frozenset,\n",
       " 'property': property,\n",
       " 'int': int,\n",
       " 'list': list,\n",
       " 'map': map,\n",
       " 'object': object,\n",
       " 'range': range,\n",
       " 'reversed': reversed,\n",
       " 'set': set,\n",
       " 'slice': slice,\n",
       " 'staticmethod': staticmethod,\n",
       " 'str': str,\n",
       " 'super': super,\n",
       " 'tuple': tuple,\n",
       " 'type': type,\n",
       " 'zip': zip,\n",
       " '__debug__': True,\n",
       " 'BaseException': BaseException,\n",
       " 'BaseExceptionGroup': BaseExceptionGroup,\n",
       " 'Exception': Exception,\n",
       " 'GeneratorExit': GeneratorExit,\n",
       " 'KeyboardInterrupt': KeyboardInterrupt,\n",
       " 'SystemExit': SystemExit,\n",
       " 'ArithmeticError': ArithmeticError,\n",
       " 'AssertionError': AssertionError,\n",
       " 'AttributeError': AttributeError,\n",
       " 'BufferError': BufferError,\n",
       " 'EOFError': EOFError,\n",
       " 'ImportError': ImportError,\n",
       " 'LookupError': LookupError,\n",
       " 'MemoryError': MemoryError,\n",
       " 'NameError': NameError,\n",
       " 'OSError': OSError,\n",
       " 'ReferenceError': ReferenceError,\n",
       " 'RuntimeError': RuntimeError,\n",
       " 'StopAsyncIteration': StopAsyncIteration,\n",
       " 'StopIteration': StopIteration,\n",
       " 'SyntaxError': SyntaxError,\n",
       " 'SystemError': SystemError,\n",
       " 'TypeError': TypeError,\n",
       " 'ValueError': ValueError,\n",
       " 'Warning': Warning,\n",
       " 'FloatingPointError': FloatingPointError,\n",
       " 'OverflowError': OverflowError,\n",
       " 'ZeroDivisionError': ZeroDivisionError,\n",
       " 'BytesWarning': BytesWarning,\n",
       " 'DeprecationWarning': DeprecationWarning,\n",
       " 'EncodingWarning': EncodingWarning,\n",
       " 'FutureWarning': FutureWarning,\n",
       " 'ImportWarning': ImportWarning,\n",
       " 'PendingDeprecationWarning': PendingDeprecationWarning,\n",
       " 'ResourceWarning': ResourceWarning,\n",
       " 'RuntimeWarning': RuntimeWarning,\n",
       " 'SyntaxWarning': SyntaxWarning,\n",
       " 'UnicodeWarning': UnicodeWarning,\n",
       " 'UserWarning': UserWarning,\n",
       " 'BlockingIOError': BlockingIOError,\n",
       " 'ChildProcessError': ChildProcessError,\n",
       " 'ConnectionError': ConnectionError,\n",
       " 'FileExistsError': FileExistsError,\n",
       " 'FileNotFoundError': FileNotFoundError,\n",
       " 'InterruptedError': InterruptedError,\n",
       " 'IsADirectoryError': IsADirectoryError,\n",
       " 'NotADirectoryError': NotADirectoryError,\n",
       " 'PermissionError': PermissionError,\n",
       " 'ProcessLookupError': ProcessLookupError,\n",
       " 'TimeoutError': TimeoutError,\n",
       " 'IndentationError': IndentationError,\n",
       " 'IndexError': IndexError,\n",
       " 'KeyError': KeyError,\n",
       " 'ModuleNotFoundError': ModuleNotFoundError,\n",
       " 'NotImplementedError': NotImplementedError,\n",
       " 'RecursionError': RecursionError,\n",
       " 'UnboundLocalError': UnboundLocalError,\n",
       " 'UnicodeError': UnicodeError,\n",
       " 'BrokenPipeError': BrokenPipeError,\n",
       " 'ConnectionAbortedError': ConnectionAbortedError,\n",
       " 'ConnectionRefusedError': ConnectionRefusedError,\n",
       " 'ConnectionResetError': ConnectionResetError,\n",
       " 'TabError': TabError,\n",
       " 'UnicodeDecodeError': UnicodeDecodeError,\n",
       " 'UnicodeEncodeError': UnicodeEncodeError,\n",
       " 'UnicodeTranslateError': UnicodeTranslateError,\n",
       " 'ExceptionGroup': ExceptionGroup,\n",
       " 'EnvironmentError': OSError,\n",
       " 'IOError': OSError,\n",
       " 'WindowsError': OSError,\n",
       " 'open': <function io.open(file, mode='r', buffering=-1, encoding=None, errors=None, newline=None, closefd=True, opener=None)>,\n",
       " 'copyright': Copyright (c) 2001-2023 Python Software Foundation.\n",
       " All Rights Reserved.\n",
       " \n",
       " Copyright (c) 2000 BeOpen.com.\n",
       " All Rights Reserved.\n",
       " \n",
       " Copyright (c) 1995-2001 Corporation for National Research Initiatives.\n",
       " All Rights Reserved.\n",
       " \n",
       " Copyright (c) 1991-1995 Stichting Mathematisch Centrum, Amsterdam.\n",
       " All Rights Reserved.,\n",
       " 'credits':     Thanks to CWI, CNRI, BeOpen.com, Zope Corporation and a cast of thousands\n",
       "     for supporting Python development.  See www.python.org for more information.,\n",
       " 'license': See https://www.python.org/psf/license/,\n",
       " 'help': Type help() for interactive help, or help(object) for help about object.,\n",
       " 'execfile': <function _pydev_bundle._pydev_execfile.execfile(file, glob=None, loc=None)>,\n",
       " 'runfile': <function _pydev_bundle.pydev_umd.runfile(filename, args=None, wdir=None, namespace=None)>,\n",
       " '__IPYTHON__': True,\n",
       " 'display': <function IPython.core.display_functions.display(*objs, include=None, exclude=None, metadata=None, transient=None, display_id=None, raw=False, clear=False, **kwargs)>,\n",
       " 'get_ipython': <bound method InteractiveShell.get_ipython of <ipykernel.zmqshell.ZMQInteractiveShell object at 0x0000024893328F10>>}"
      ]
     },
     "execution_count": 8,
     "metadata": {},
     "output_type": "execute_result"
    }
   ],
   "source": [
    "mm.__builtins__"
   ]
  },
  {
   "cell_type": "code",
   "execution_count": null,
   "id": "56494486",
   "metadata": {},
   "outputs": [],
   "source": []
  },
  {
   "cell_type": "markdown",
   "id": "b3d3ece1",
   "metadata": {},
   "source": [
    "**Let us use the `factorial()` function**"
   ]
  },
  {
   "cell_type": "code",
   "execution_count": 4,
   "id": "412fb266",
   "metadata": {},
   "outputs": [
    {
     "data": {
      "text/plain": [
       "120"
      ]
     },
     "execution_count": 4,
     "metadata": {},
     "output_type": "execute_result"
    }
   ],
   "source": [
    "mm.myfactorial(5)"
   ]
  },
  {
   "cell_type": "code",
   "execution_count": null,
   "id": "d7625c43",
   "metadata": {},
   "outputs": [],
   "source": []
  },
  {
   "cell_type": "markdown",
   "id": "815aa081",
   "metadata": {},
   "source": [
    "**Let us use the `myindex()` function**"
   ]
  },
  {
   "cell_type": "code",
   "execution_count": 10,
   "id": "49acf41c",
   "metadata": {},
   "outputs": [
    {
     "data": {
      "text/plain": [
       "-1"
      ]
     },
     "execution_count": 10,
     "metadata": {},
     "output_type": "execute_result"
    }
   ],
   "source": [
    "list1=[44, 99, -65, 101, 27, 88]\n",
    "mm.myindex(list1, 100)"
   ]
  },
  {
   "cell_type": "code",
   "execution_count": null,
   "id": "a6a90f5c",
   "metadata": {},
   "outputs": [],
   "source": []
  },
  {
   "cell_type": "markdown",
   "id": "d065467a",
   "metadata": {},
   "source": [
    "**Let us use the `mysort()` function. Remember the default inplace argument is False, so it does not modify the list that is passed rather returns a new sorted list**"
   ]
  },
  {
   "cell_type": "code",
   "execution_count": 12,
   "id": "620727f0",
   "metadata": {},
   "outputs": [
    {
     "data": {
      "text/plain": [
       "[-65, 27, 44, 88, 99, 101]"
      ]
     },
     "execution_count": 12,
     "metadata": {},
     "output_type": "execute_result"
    }
   ],
   "source": [
    "list1=[44, 99, -65, 101, 27, 88]\n",
    "\n",
    "rv = mm.mysort(list1)\n",
    "rv"
   ]
  },
  {
   "cell_type": "code",
   "execution_count": 8,
   "id": "34b503f3",
   "metadata": {},
   "outputs": [
    {
     "data": {
      "text/plain": [
       "[44, 99, -65, 101, 27, 88]"
      ]
     },
     "execution_count": 8,
     "metadata": {},
     "output_type": "execute_result"
    }
   ],
   "source": [
    "list1"
   ]
  },
  {
   "cell_type": "code",
   "execution_count": null,
   "id": "c7ad2d47",
   "metadata": {},
   "outputs": [],
   "source": []
  },
  {
   "cell_type": "markdown",
   "id": "26ef1cc7",
   "metadata": {},
   "source": [
    "**Let us use the `mysort()` function and pass `inplace` argument as True, so it sort the list that is passed and returns None**"
   ]
  },
  {
   "cell_type": "code",
   "execution_count": 9,
   "id": "bcc55b97",
   "metadata": {},
   "outputs": [
    {
     "data": {
      "text/plain": [
       "NoneType"
      ]
     },
     "execution_count": 9,
     "metadata": {},
     "output_type": "execute_result"
    }
   ],
   "source": [
    "list1=[44, 99, -65, 101, 27, 88]\n",
    "rv = mm.mysort(list1, inplace=True)\n",
    "type(rv)"
   ]
  },
  {
   "cell_type": "code",
   "execution_count": 10,
   "id": "93c736d6",
   "metadata": {},
   "outputs": [
    {
     "data": {
      "text/plain": [
       "[-65, 27, 44, 88, 99, 101]"
      ]
     },
     "execution_count": 10,
     "metadata": {},
     "output_type": "execute_result"
    }
   ],
   "source": [
    "list1"
   ]
  },
  {
   "cell_type": "code",
   "execution_count": 11,
   "id": "fbd64da2",
   "metadata": {},
   "outputs": [],
   "source": [
    "rv"
   ]
  },
  {
   "cell_type": "markdown",
   "id": "d880daa8",
   "metadata": {},
   "source": [
    "## 3. How Python Locates a module?\n",
    "Let us try to import a module named `arifmodule` that is located in the following directory\n",
    "```\n",
    "/Users/arif/Documents/0-DS-522/Demo-Files-Repo/Section-2-Basics-of-Python-Programming/Lec-2.15-Creating-Python-Modules-and-Packages/module-files/pathissue/\n",
    "```"
   ]
  },
  {
   "cell_type": "code",
   "execution_count": 14,
   "id": "a8fade70",
   "metadata": {},
   "outputs": [
    {
     "ename": "ModuleNotFoundError",
     "evalue": "No module named 'arifmodule'",
     "output_type": "error",
     "traceback": [
      "\u001b[1;31m---------------------------------------------------------------------------\u001b[0m",
      "\u001b[1;31mModuleNotFoundError\u001b[0m                       Traceback (most recent call last)",
      "Cell \u001b[1;32mIn[14], line 1\u001b[0m\n\u001b[1;32m----> 1\u001b[0m \u001b[38;5;28;01mimport\u001b[39;00m \u001b[38;5;21;01marifmodule\u001b[39;00m\n",
      "\u001b[1;31mModuleNotFoundError\u001b[0m: No module named 'arifmodule'"
     ]
    }
   ],
   "source": [
    "import arifmodule"
   ]
  },
  {
   "cell_type": "code",
   "execution_count": null,
   "id": "0e8a95ed",
   "metadata": {},
   "outputs": [],
   "source": []
  },
  {
   "cell_type": "markdown",
   "id": "c464a2ce",
   "metadata": {},
   "source": [
    ">- **First** Python Interpreter looks for the module in the current working directory, i.e., the directory from which the input script was run\n",
    ">- Let us see the contents of current working directory"
   ]
  },
  {
   "cell_type": "code",
   "execution_count": 18,
   "id": "121449d2",
   "metadata": {},
   "outputs": [
    {
     "data": {
      "text/plain": [
       "['.ipynb_checkpoints',\n",
       " 'creating_module.ipynb',\n",
       " 'demomodule.py',\n",
       " 'mymodule.py',\n",
       " 'myscript.py',\n",
       " 'pathissue',\n",
       " '__pycache__']"
      ]
     },
     "execution_count": 18,
     "metadata": {},
     "output_type": "execute_result"
    }
   ],
   "source": [
    "import os\n",
    "os.listdir()"
   ]
  },
  {
   "cell_type": "code",
   "execution_count": null,
   "id": "95e72d7e",
   "metadata": {},
   "outputs": [],
   "source": []
  },
  {
   "cell_type": "markdown",
   "id": "e340fb2e",
   "metadata": {},
   "source": [
    "**So in the current working directory, we do not have the module named `arifmodule`**"
   ]
  },
  {
   "cell_type": "code",
   "execution_count": null,
   "id": "f95804bc",
   "metadata": {},
   "outputs": [],
   "source": []
  },
  {
   "cell_type": "markdown",
   "id": "4db1fbe3",
   "metadata": {},
   "source": [
    ">- **Second** Python Interpreter looks for the module in the list of built-in modules of Python standard library\n",
    ">- Let us see the list of all builtin modules"
   ]
  },
  {
   "cell_type": "code",
   "execution_count": 14,
   "id": "0e696795",
   "metadata": {},
   "outputs": [
    {
     "name": "stdout",
     "output_type": "stream",
     "text": [
      "['ArithmeticError', 'AssertionError', 'AttributeError', 'BaseException', 'BaseExceptionGroup', 'BlockingIOError', 'BrokenPipeError', 'BufferError', 'BytesWarning', 'ChildProcessError', 'ConnectionAbortedError', 'ConnectionError', 'ConnectionRefusedError', 'ConnectionResetError', 'DeprecationWarning', 'EOFError', 'Ellipsis', 'EncodingWarning', 'EnvironmentError', 'Exception', 'ExceptionGroup', 'False', 'FileExistsError', 'FileNotFoundError', 'FloatingPointError', 'FutureWarning', 'GeneratorExit', 'IOError', 'ImportError', 'ImportWarning', 'IndentationError', 'IndexError', 'InterruptedError', 'IsADirectoryError', 'KeyError', 'KeyboardInterrupt', 'LookupError', 'MemoryError', 'ModuleNotFoundError', 'NameError', 'None', 'NotADirectoryError', 'NotImplemented', 'NotImplementedError', 'OSError', 'OverflowError', 'PendingDeprecationWarning', 'PermissionError', 'ProcessLookupError', 'RecursionError', 'ReferenceError', 'ResourceWarning', 'RuntimeError', 'RuntimeWarning', 'StopAsyncIteration', 'StopIteration', 'SyntaxError', 'SyntaxWarning', 'SystemError', 'SystemExit', 'TabError', 'TimeoutError', 'True', 'TypeError', 'UnboundLocalError', 'UnicodeDecodeError', 'UnicodeEncodeError', 'UnicodeError', 'UnicodeTranslateError', 'UnicodeWarning', 'UserWarning', 'ValueError', 'Warning', 'WindowsError', 'ZeroDivisionError', '__IPYTHON__', '__build_class__', '__debug__', '__doc__', '__import__', '__loader__', '__name__', '__package__', '__spec__', 'abs', 'aiter', 'all', 'anext', 'any', 'ascii', 'bin', 'bool', 'breakpoint', 'bytearray', 'bytes', 'callable', 'chr', 'classmethod', 'compile', 'complex', 'copyright', 'credits', 'delattr', 'dict', 'dir', 'display', 'divmod', 'enumerate', 'eval', 'exec', 'execfile', 'filter', 'float', 'format', 'frozenset', 'get_ipython', 'getattr', 'globals', 'hasattr', 'hash', 'help', 'hex', 'id', 'input', 'int', 'isinstance', 'issubclass', 'iter', 'len', 'license', 'list', 'locals', 'map', 'max', 'memoryview', 'min', 'next', 'object', 'oct', 'open', 'ord', 'pow', 'print', 'property', 'range', 'repr', 'reversed', 'round', 'runfile', 'set', 'setattr', 'slice', 'sorted', 'staticmethod', 'str', 'sum', 'super', 'tuple', 'type', 'vars', 'zip']\n"
     ]
    }
   ],
   "source": [
    "print(dir(__builtins__))"
   ]
  },
  {
   "cell_type": "code",
   "execution_count": null,
   "id": "6766659a",
   "metadata": {},
   "outputs": [],
   "source": []
  },
  {
   "cell_type": "markdown",
   "id": "aa0497f6",
   "metadata": {},
   "source": [
    "**So `arifmodule` is not in the list of `__builtins__`**"
   ]
  },
  {
   "cell_type": "code",
   "execution_count": null,
   "id": "9df8de64",
   "metadata": {},
   "outputs": [],
   "source": []
  },
  {
   "cell_type": "markdown",
   "id": "d105875b",
   "metadata": {},
   "source": [
    ">- **Third** If there is no built-in module of that name, Python looks into a list of directories defined in `sys.path` environment variable\n",
    ">- Let us see the directories mentioned in the `sys.path` environment variable"
   ]
  },
  {
   "cell_type": "code",
   "execution_count": 16,
   "id": "fe7fc091",
   "metadata": {},
   "outputs": [
    {
     "data": {
      "text/plain": [
       "['C:\\\\Users\\\\Nadeem\\\\Desktop\\\\DataScienceJourney\\\\Section-2-Basics-of-Python-Programming\\\\2.15-Creating-Python-Modules-and-Packages\\\\module-files',\n",
       " 'C:\\\\Users\\\\Nadeem\\\\anaconda3\\\\python311.zip',\n",
       " 'C:\\\\Users\\\\Nadeem\\\\anaconda3\\\\DLLs',\n",
       " 'C:\\\\Users\\\\Nadeem\\\\anaconda3\\\\Lib',\n",
       " 'C:\\\\Users\\\\Nadeem\\\\anaconda3',\n",
       " '',\n",
       " 'C:\\\\Users\\\\Nadeem\\\\anaconda3\\\\Lib\\\\site-packages',\n",
       " 'C:\\\\Users\\\\Nadeem\\\\anaconda3\\\\Lib\\\\site-packages\\\\win32',\n",
       " 'C:\\\\Users\\\\Nadeem\\\\anaconda3\\\\Lib\\\\site-packages\\\\win32\\\\lib',\n",
       " 'C:\\\\Users\\\\Nadeem\\\\anaconda3\\\\Lib\\\\site-packages\\\\Pythonwin']"
      ]
     },
     "execution_count": 16,
     "metadata": {},
     "output_type": "execute_result"
    }
   ],
   "source": [
    "import sys\n",
    "sys.path"
   ]
  },
  {
   "cell_type": "code",
   "execution_count": null,
   "id": "82f275ad",
   "metadata": {},
   "outputs": [],
   "source": []
  },
  {
   "cell_type": "markdown",
   "id": "07de67d4",
   "metadata": {},
   "source": [
    "**The module `arifmodule` is not in either of the above locations**"
   ]
  },
  {
   "cell_type": "markdown",
   "id": "ba34f475",
   "metadata": {},
   "source": [
    ">- Let us now add the path of the directory containing `arifmodule` in the `sys.path` environment variable"
   ]
  },
  {
   "cell_type": "code",
   "execution_count": 20,
   "id": "cdaa6259",
   "metadata": {
    "scrolled": true
   },
   "outputs": [],
   "source": [
    "import sys\n",
    "sys.path.append('C:\\\\Users\\\\Nadeem\\\\Desktop\\\\DataScienceJourney\\\\Section-2-Basics-of-Python-Programming\\\\2.15-Creating-Python-Modules-and-Packages\\\\module-files\\\\pathissue')\n",
    "\n",
    "\n"
   ]
  },
  {
   "cell_type": "markdown",
   "id": "91de54cc",
   "metadata": {},
   "source": [
    "**Now let us try to import `arifmodule` again**"
   ]
  },
  {
   "cell_type": "code",
   "execution_count": 22,
   "id": "dce49f56",
   "metadata": {},
   "outputs": [
    {
     "name": "stdout",
     "output_type": "stream",
     "text": [
      "This module is located in '/Users/arif/Documents/0-DS-522/Demo-Files-Repo/Section-2-Basics-of-Python-Programming/Lec-2.15-Creating-Python-Modules-and-Packages/module-files/pathissue/ directory\n"
     ]
    }
   ],
   "source": [
    "import arifmodule"
   ]
  },
  {
   "cell_type": "markdown",
   "id": "1c3334d4",
   "metadata": {},
   "source": [
    "**Success**"
   ]
  },
  {
   "cell_type": "code",
   "execution_count": null,
   "id": "30e7e497",
   "metadata": {},
   "outputs": [],
   "source": []
  },
  {
   "cell_type": "markdown",
   "id": "c100e05f",
   "metadata": {},
   "source": [
    "## 4. Reload a module\n",
    "- The Python interpreter imports a module only once during a session. This makes things more efficient. \n",
    "- Consider `demomodule.py` located in the same directory in which this .ipynb file is located."
   ]
  },
  {
   "cell_type": "markdown",
   "id": "2685f55a",
   "metadata": {
    "jupyter": {
     "source_hidden": true
    }
   },
   "source": [
    "#### demomodule.py\n",
    "```\n",
    "print(\"This is the demomodule having only one print statement. It is located in the same directory in which this .ipynb file is...\")\n",
    "```"
   ]
  },
  {
   "cell_type": "code",
   "execution_count": 28,
   "id": "8fc71033",
   "metadata": {},
   "outputs": [],
   "source": [
    "# import the module for the first time\n",
    "import demomodule"
   ]
  },
  {
   "cell_type": "markdown",
   "id": "51273d45",
   "metadata": {},
   "source": [
    "**Let us import this module again**"
   ]
  },
  {
   "cell_type": "code",
   "execution_count": 26,
   "id": "08d97c4c",
   "metadata": {},
   "outputs": [],
   "source": [
    "import demomodule\n",
    "\n",
    "# you can note that python imports the module only once"
   ]
  },
  {
   "cell_type": "code",
   "execution_count": null,
   "id": "f90b47c4",
   "metadata": {},
   "outputs": [],
   "source": []
  },
  {
   "cell_type": "markdown",
   "id": "da52a313",
   "metadata": {},
   "source": [
    "**What if we have made some changes in this module and want to reload it, there are two ways to do that:**\n",
    "1. Restart the Interpreter\n",
    "2. Call the `imp.reload(<modulename>)` function"
   ]
  },
  {
   "cell_type": "code",
   "execution_count": 2,
   "id": "55a6631b",
   "metadata": {},
   "outputs": [
    {
     "name": "stdout",
     "output_type": "stream",
     "text": [
      "This is it. its demo module for reload vvvfffrrrr...\n"
     ]
    },
    {
     "name": "stderr",
     "output_type": "stream",
     "text": [
      "C:\\Users\\Nadeem\\AppData\\Local\\Temp\\ipykernel_6404\\3794160826.py:1: DeprecationWarning: the imp module is deprecated in favour of importlib and slated for removal in Python 3.12; see the module's documentation for alternative uses\n",
      "  import imp\n"
     ]
    },
    {
     "data": {
      "text/plain": [
       "<module 'demomodule' from 'C:\\\\Users\\\\Nadeem\\\\Desktop\\\\DataScienceJourney\\\\Section-2-Basics-of-Python-Programming\\\\2.15-Creating-Python-Modules-and-Packages\\\\module-files\\\\demomodule.py'>"
      ]
     },
     "execution_count": 2,
     "metadata": {},
     "output_type": "execute_result"
    }
   ],
   "source": [
    "import imp\n",
    "imp.reload(demomodule)"
   ]
  },
  {
   "cell_type": "code",
   "execution_count": 3,
   "id": "f5e8548e",
   "metadata": {},
   "outputs": [],
   "source": [
    "import demomodule"
   ]
  },
  {
   "cell_type": "code",
   "execution_count": null,
   "id": "4fcc3000",
   "metadata": {},
   "outputs": [],
   "source": []
  },
  {
   "cell_type": "markdown",
   "id": "36ac0776",
   "metadata": {},
   "source": [
    "# Bonus: `main()` Function in Python\n",
    "- In most programming languages, the `main()` function serves as a starting point for the execution of a program. It is executed automatically every time the program is run.\n",
    "- In Python, it is not necessary to define the `main()`, because the Python interpreter executes from the top of the script file unless a specific function is defined. \n",
    "- However, having a defined starting point for the execution of your Python program is useful to better understand how a Python program works."
   ]
  },
  {
   "cell_type": "markdown",
   "id": "0981e83c",
   "metadata": {},
   "source": [
    "### The Python `__name__` Variable and Python Execution Modes\n",
    "- In Python, the `.py` file may be executed as a script or may be imported as a module in another script.\n",
    "- Python has a special built-in variable, called `__name__`, that helps us decide whether we want to run the script or we want to import the functions defined in the script\n",
    "    - When you run your script, the `__name__` variable equals `__main__` \n",
    "    - When you import the containing script, the `__name__` variable will contain the name of the script.\n",
    "- Consider the following file named `myscript.py`:    \n",
    "```\n",
    "def myFunction():\n",
    "    print('The value of __name__ is ' + __name__)\n",
    "def main():\n",
    "    myFunction()\n",
    "if __name__ == '__main__':\n",
    "    main()\n",
    "```"
   ]
  },
  {
   "cell_type": "markdown",
   "id": "cbc6d6f0",
   "metadata": {},
   "source": [
    "### Scenario 1: Execute `myscript.py` as a Python Script"
   ]
  },
  {
   "cell_type": "code",
   "execution_count": null,
   "id": "622f945e",
   "metadata": {},
   "outputs": [],
   "source": [
    "!cat myscript.py"
   ]
  },
  {
   "cell_type": "code",
   "execution_count": 4,
   "id": "25c76f17",
   "metadata": {},
   "outputs": [
    {
     "name": "stdout",
     "output_type": "stream",
     "text": [
      "The value of __name__ is __main__\n"
     ]
    }
   ],
   "source": [
    "%run myscript.py"
   ]
  },
  {
   "cell_type": "markdown",
   "id": "e0dd0256",
   "metadata": {},
   "source": [
    ">**So it proves that when we run the `myscript.py` file as a script the `__name__` variable contains `__main__`, the condition evaluates to True and therefore `main()` function is called which further caled `myFunction()`, which executes the print statement.**"
   ]
  },
  {
   "cell_type": "markdown",
   "id": "d6609474",
   "metadata": {},
   "source": [
    "### Scenario 2: Import `myscript.py` in another script as a Python Module"
   ]
  },
  {
   "cell_type": "code",
   "execution_count": null,
   "id": "6e33f51e",
   "metadata": {},
   "outputs": [],
   "source": [
    "!cat myscript.py"
   ]
  },
  {
   "cell_type": "code",
   "execution_count": 5,
   "id": "7be76e0d",
   "metadata": {},
   "outputs": [],
   "source": [
    "import myscript as ms"
   ]
  },
  {
   "cell_type": "markdown",
   "id": "6830d923",
   "metadata": {},
   "source": [
    ">**So it proves that when we import the `myscript.py` file as a module the `__name__` variable DOES NOT contains `__main__`, the condition evaluates to False and therefore `main()` function is NOT called and therefore nothing is printed on screen.**\n",
    "\n",
    "**Now since the `myscript.py` has been imported, so we can call its functions. Let us call `myFunction()`**"
   ]
  },
  {
   "cell_type": "code",
   "execution_count": 6,
   "id": "2d4081dd",
   "metadata": {},
   "outputs": [
    {
     "name": "stdout",
     "output_type": "stream",
     "text": [
      "The value of __name__ is myscript\n"
     ]
    }
   ],
   "source": [
    "ms.myFunction()"
   ]
  },
  {
   "cell_type": "markdown",
   "id": "59adf27f",
   "metadata": {},
   "source": [
    "**So it proves that when we import the `myscript.py` file as a module the `__name__` variable contains the name of the script `__myscript__`**"
   ]
  },
  {
   "cell_type": "code",
   "execution_count": null,
   "id": "ffaa6530",
   "metadata": {},
   "outputs": [],
   "source": []
  }
 ],
 "metadata": {
  "kernelspec": {
   "display_name": "Python 3 (ipykernel)",
   "language": "python",
   "name": "python3"
  },
  "language_info": {
   "codemirror_mode": {
    "name": "ipython",
    "version": 3
   },
   "file_extension": ".py",
   "mimetype": "text/x-python",
   "name": "python",
   "nbconvert_exporter": "python",
   "pygments_lexer": "ipython3",
   "version": "3.11.5"
  }
 },
 "nbformat": 4,
 "nbformat_minor": 5
}
