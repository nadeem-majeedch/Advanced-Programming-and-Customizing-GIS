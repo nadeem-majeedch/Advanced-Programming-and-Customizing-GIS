{
 "cells": [
  {
   "cell_type": "markdown",
   "id": "dbd5aa33",
   "metadata": {},
   "source": [
    "---   \n",
    " <img align=\"left\" width=\"75\" height=\"75\"  src=\"../../University_of_the_Punjab_logo.png\"> \n",
    "\n",
    "<h1 align=\"center\">Department of Data Science</h1>\n",
    "<h1 align=\"center\">Data Science Journey from Beginners to Expert</h1>\n",
    "\n",
    "---\n",
    "<h3><div align=\"right\">Instructor: Engr. Muhammad Nadeem Majeed, Ph.D.</div></h3>     "
   ]
  },
  {
   "cell_type": "markdown",
   "id": "04d0e813",
   "metadata": {},
   "source": [
    "<h1 align=\"center\">Selection Structure if-else</h1>"
   ]
  },
  {
   "cell_type": "markdown",
   "id": "c0ed614c",
   "metadata": {},
   "source": [
    "## _if-else.ipynb_"
   ]
  },
  {
   "cell_type": "markdown",
   "id": "85ce601a",
   "metadata": {},
   "source": [
    "## Learning agenda of this notebook\n",
    "There are scenarios is programming, where we need to make a decision and based on that decision we want the flow of execution to move to one block of code or the other. In Python this decision making is done using `if...else` statements.\n",
    "1. Python Indentation\n",
    "2. Branching with `if`, `else`, and `elif`\n",
    "    - `if` statement\n",
    "    - `if...else` statement\n",
    "    - Ternary operator\n",
    "    - Nested `if...else` statement\n",
    "    - Ladder of `if...elif...else`\n",
    "3. The `pass` statement"
   ]
  },
  {
   "cell_type": "markdown",
   "id": "f1e3dcfe",
   "metadata": {},
   "source": [
    "## 1.  Python Expression, Statements and Indentation\n",
    "\n",
    "> **Expressions and Statements**: An expression is some code that evaluates to a value. As a rule of thumb, an expression is anything that can appear on the right side of the assignment operator `=`. On the contrary a statement is an instruction that can be executed. \n",
    "\n",
    "> **Python Indentation**:\n",
    ">- Most programming languages like C, C++, Java use braces { } to define a block of code. \n",
    ">- Python use indentation to tell the interpreter that the group of statements belongs to a particular block of code. \n",
    ">- Whitespace is used for indentation in Python. All statements with the same distance to the right belong to the same block of code. If a block has to be more deeply nested, it is simply indented further to the right. \n",
    ">- Python uses 4 spaces as indentation by default. However, the number of spaces is up to you, but a minimum of 1 space has to be used. \n",
    ">- Pressing `Tab` in a Jupyter notebook cell, will indent the code by 4 spaces, and pressing `Shift+Tab` will reduce the indentation by 4 spaces. "
   ]
  },
  {
   "cell_type": "code",
   "execution_count": 24,
   "id": "56fdda25",
   "metadata": {},
   "outputs": [
    {
     "ename": "IndentationError",
     "evalue": "unexpected indent (1998077382.py, line 2)",
     "output_type": "error",
     "traceback": [
      "\u001b[1;36m  Cell \u001b[1;32mIn[24], line 2\u001b[1;36m\u001b[0m\n\u001b[1;33m    b = 6 # Giving an extra extra space without the need of a block will flag an error\u001b[0m\n\u001b[1;37m    ^\u001b[0m\n\u001b[1;31mIndentationError\u001b[0m\u001b[1;31m:\u001b[0m unexpected indent\n"
     ]
    }
   ],
   "source": [
    "a = 5\n",
    "    b = 6 # Giving an extra extra space without the need of a block will flag an error\n",
    "print(a, b)"
   ]
  },
  {
   "cell_type": "code",
   "execution_count": 18,
   "id": "b49f7827-bf4f-41b1-8bec-90d45dd732a8",
   "metadata": {},
   "outputs": [
    {
     "data": {
      "text/plain": [
       "True"
      ]
     },
     "execution_count": 18,
     "metadata": {},
     "output_type": "execute_result"
    }
   ],
   "source": [
    "2==2"
   ]
  },
  {
   "cell_type": "code",
   "execution_count": 14,
   "id": "411afb08",
   "metadata": {},
   "outputs": [],
   "source": [
    "if (2 == 3):\n",
    "    print('True Statement')  # Not doing an indentation also flags an error"
   ]
  },
  {
   "cell_type": "code",
   "execution_count": null,
   "id": "e31827bd",
   "metadata": {},
   "outputs": [],
   "source": [
    "Arif_butt1 = 45 # Assignment operator ="
   ]
  },
  {
   "cell_type": "code",
   "execution_count": null,
   "id": "ae08eded",
   "metadata": {},
   "outputs": [],
   "source": []
  },
  {
   "cell_type": "code",
   "execution_count": null,
   "id": "3773a242",
   "metadata": {},
   "outputs": [],
   "source": []
  },
  {
   "cell_type": "code",
   "execution_count": null,
   "id": "3be400a2",
   "metadata": {},
   "outputs": [],
   "source": []
  },
  {
   "cell_type": "code",
   "execution_count": null,
   "id": "c5cea553",
   "metadata": {},
   "outputs": [],
   "source": []
  },
  {
   "cell_type": "markdown",
   "id": "3a39551f",
   "metadata": {},
   "source": [
    "## 2. Branching with `if`, `else` and `elif`\n",
    "One of the most powerful features of programming languages is *branching*: the ability to make decisions and execute a different set of statements based on whether one or more conditions are true."
   ]
  },
  {
   "cell_type": "markdown",
   "id": "5f2e034e",
   "metadata": {},
   "source": [
    "### a. `if` Statement\n",
    "<img align=\"right\" width=\"300\" height=\"300\"  src=\"images/if1.png\" > \n",
    "\n",
    "In Python, branching is implemented using the `if` statement, which is written as follows:\n",
    "\n",
    "```\n",
    "if condition:\n",
    "    statement1\n",
    "    statement2\n",
    "statement(s)\n",
    "```\n",
    "\n",
    "- The `condition` can be a value, variable or expression. \n",
    "- If the condition evaluates to `True`, then the statements within the *`if` block* are executed. \n",
    "- Notice the four spaces before `statement1`, and `statement2`, which inform Python interpreter that these statements are associated with the `if` statement above. \n",
    "- This technique of structuring code by adding spaces is called *indentation*.\n"
   ]
  },
  {
   "cell_type": "code",
   "execution_count": 20,
   "id": "63b134c0",
   "metadata": {},
   "outputs": [
    {
     "name": "stdout",
     "output_type": "stream",
     "text": [
      "The \"if\" statement\n",
      "******************\n",
      "\n",
      "The \"if\" statement is used for conditional execution:\n",
      "\n",
      "   if_stmt ::= \"if\" assignment_expression \":\" suite\n",
      "               (\"elif\" assignment_expression \":\" suite)*\n",
      "               [\"else\" \":\" suite]\n",
      "\n",
      "It selects exactly one of the suites by evaluating the expressions one\n",
      "by one until one is found to be true (see section Boolean operations\n",
      "for the definition of true and false); then that suite is executed\n",
      "(and no other part of the \"if\" statement is executed or evaluated).\n",
      "If all expressions are false, the suite of the \"else\" clause, if\n",
      "present, is executed.\n",
      "\n",
      "Related help topics: TRUTHVALUE\n",
      "\n"
     ]
    }
   ],
   "source": [
    "help('if')"
   ]
  },
  {
   "cell_type": "code",
   "execution_count": 26,
   "id": "ecdea0c7",
   "metadata": {},
   "outputs": [
    {
     "name": "stdout",
     "output_type": "stream",
     "text": [
      "Truth Value Testing\n",
      "*******************\n",
      "\n",
      "Any object can be tested for truth value, for use in an \"if\" or\n",
      "\"while\" condition or as operand of the Boolean operations below.\n",
      "\n",
      "By default, an object is considered true unless its class defines\n",
      "either a \"__bool__()\" method that returns \"False\" or a \"__len__()\"\n",
      "method that returns zero, when called with the object. [1]  Here are\n",
      "most of the built-in objects considered false:\n",
      "\n",
      "* constants defined to be false: \"None\" and \"False\"\n",
      "\n",
      "* zero of any numeric type: \"0\", \"0.0\", \"0j\", \"Decimal(0)\",\n",
      "  \"Fraction(0, 1)\"\n",
      "\n",
      "* empty sequences and collections: \"''\", \"()\", \"[]\", \"{}\", \"set()\",\n",
      "  \"range(0)\"\n",
      "\n",
      "Operations and built-in functions that have a Boolean result always\n",
      "return \"0\" or \"False\" for false and \"1\" or \"True\" for true, unless\n",
      "otherwise stated. (Important exception: the Boolean operations \"or\"\n",
      "and \"and\" always return one of their operands.)\n",
      "\n",
      "Related help topics: if, while, and, or, not, BASICMETHODS\n",
      "\n"
     ]
    }
   ],
   "source": [
    "help('TRUTHVALUE')"
   ]
  },
  {
   "cell_type": "markdown",
   "id": "8c3cb597",
   "metadata": {},
   "source": [
    "In Python the following values evaluate to `False` (they are often called *falsy* values):\n",
    "1. The value `False` itself\n",
    "2. The integer `0`\n",
    "3. The float `0.0`\n",
    "4. The empty value `None` \n",
    "5. The empty text `\"\"`\n",
    "6. The empty list `[]`\n",
    "7. The empty tuple `()`\n",
    "8. The empty dictionary `{}`\n",
    "9. The empty set `set()`\n",
    "10. The empty range `range(0)`\n",
    "\n",
    "Everything else evaluates to `True` (a value that evaluates to `True` is often called a *truthy* value).\n",
    "\n",
    "The **None** type includes a single value `None`, used to indicate the absence of a value. `None` has the type `NoneType`. It is often used to declare a variable whose value may be assigned later or as a return value of functions that do not return a value"
   ]
  },
  {
   "cell_type": "raw",
   "id": "0af9019e-9afc-4282-97fe-45400c693783",
   "metadata": {},
   "source": [
    "statement 1\n",
    "statement 2\n",
    "statment 3\n",
    "\n",
    "if condition:\n",
    "    start of body of if\n",
    "    next line of body\n",
    "    3rd line of body\n",
    "\n",
    "out of if body"
   ]
  },
  {
   "cell_type": "code",
   "execution_count": 44,
   "id": "3a5c1e7a",
   "metadata": {},
   "outputs": [
    {
     "name": "stdout",
     "output_type": "stream",
     "text": [
      "This will execute, only if the condition is true\n",
      "its second statement of if true\n",
      "This will always execute\n"
     ]
    }
   ],
   "source": [
    "# Example:\n",
    "x = 2\n",
    "if (x == 2): # you can put parenthesis around condition, but it is OK if you dont\n",
    "    print('This will execute, only if the condition is true')\n",
    "    print('its second statement of if true')\n",
    "\n",
    "print('This will always execute')"
   ]
  },
  {
   "cell_type": "code",
   "execution_count": 40,
   "id": "9561a5c4",
   "metadata": {
    "scrolled": true
   },
   "outputs": [
    {
     "data": {
      "text/plain": [
       "False"
      ]
     },
     "execution_count": 40,
     "metadata": {},
     "output_type": "execute_result"
    }
   ],
   "source": [
    "x==1"
   ]
  },
  {
   "cell_type": "code",
   "execution_count": 98,
   "id": "e01507fa-e3b9-4d16-89f7-107a8f4d99d2",
   "metadata": {},
   "outputs": [
    {
     "name": "stdin",
     "output_type": "stream",
     "text": [
      "Enter your age: 21\n"
     ]
    }
   ],
   "source": [
    "age = input(\"Enter your age:\")\n",
    "age=int(age)\n",
    "if (age >= 18):\n",
    "    print(\"You are eligible for driving\")\n",
    "else:\n",
    "    print(\"You are not eligible for driving\")\n",
    "    print(\"Please come back after the age of 18 years\")\n",
    "    \n",
    "print(\"Thanks and good bye\")"
   ]
  },
  {
   "cell_type": "code",
   "execution_count": 102,
   "id": "1846e45a-7eea-4f5f-855c-b73a137cf736",
   "metadata": {},
   "outputs": [
    {
     "name": "stdin",
     "output_type": "stream",
     "text": [
      "Enter your age: 18\n"
     ]
    },
    {
     "name": "stdout",
     "output_type": "stream",
     "text": [
      "You are eligible for driving\n",
      "Thanks and good bye\n"
     ]
    }
   ],
   "source": [
    "age = int(input(\"Enter your age:\"))\n",
    "#age=int(age)\n",
    "if (age >= 18):\n",
    "    print(\"You are eligible for driving\")\n",
    "else:\n",
    "    print(\"You are not eligible for driving\")\n",
    "    print(\"Please come back after the age of 18 years\")\n",
    "    \n",
    "print(\"Thanks and good bye\")"
   ]
  },
  {
   "cell_type": "code",
   "execution_count": 68,
   "id": "963bbe8a-f5b3-4682-a7ac-3fe687e8ab16",
   "metadata": {},
   "outputs": [
    {
     "name": "stdout",
     "output_type": "stream",
     "text": [
      "<class 'str'>\n",
      "35\n"
     ]
    }
   ],
   "source": [
    "print(type(age))\n",
    "print(age)"
   ]
  },
  {
   "cell_type": "code",
   "execution_count": 72,
   "id": "f607fef9-bbf8-4a3d-baf7-7eaaa950f839",
   "metadata": {},
   "outputs": [],
   "source": [
    "age = int(age) # casting of string age in to integer."
   ]
  },
  {
   "cell_type": "code",
   "execution_count": 74,
   "id": "cbcd6900-ca5c-4b35-9b0d-dc0887e1e08b",
   "metadata": {},
   "outputs": [
    {
     "name": "stdout",
     "output_type": "stream",
     "text": [
      "<class 'int'>\n"
     ]
    }
   ],
   "source": [
    "print(type(age))"
   ]
  },
  {
   "cell_type": "code",
   "execution_count": 76,
   "id": "49c8418c-e648-4db7-bcd7-16a858361782",
   "metadata": {},
   "outputs": [
    {
     "name": "stdout",
     "output_type": "stream",
     "text": [
      "15\n"
     ]
    }
   ],
   "source": [
    "print(age - 20)"
   ]
  },
  {
   "cell_type": "markdown",
   "id": "59bdac9b",
   "metadata": {},
   "source": [
    "### b. `if...else` statement\n",
    "<img align=\"right\" width=\"400\" height=\"300\"  src=\"images/ifelse.png\" > \n",
    "\n",
    "- The simple `if` statement shown above tells us that if a condition is True it will execute a block of statements and if the condition is False it won’t. \n",
    "- But what if we want to do something else if the condition is false. \n",
    "- Here comes the `else` statement. We can use the `else` statement with `if` statement to execute a block of code when the condition is False. It is written as follows:\n",
    "\n",
    "```\n",
    "if condition:\n",
    "    statement1\n",
    "    statement2\n",
    "else:\n",
    "    statement3\n",
    "    statement4\n",
    "remaining statement(s)\n",
    "```\n",
    "\n",
    "If `condition` evaluates to `True`, the statements in the `if` block are executed. If it evaluates to `False`, the statements in the `else` block are executed."
   ]
  },
  {
   "cell_type": "code",
   "execution_count": 106,
   "id": "de994e5c",
   "metadata": {},
   "outputs": [
    {
     "name": "stdin",
     "output_type": "stream",
     "text": [
      "enter a number:  25\n"
     ]
    },
    {
     "name": "stdout",
     "output_type": "stream",
     "text": [
      "Odd\n",
      "Bye\n"
     ]
    }
   ],
   "source": [
    "# Example 1: Take input from user by using the input function and decide if the number is even or odd\n",
    "x = int(input(\"enter a number: \"))\n",
    "# by default the type returned by input() is string, so don't forget to type cast it\n",
    "#x = int(x)\n",
    "if(x%2 == 0):\n",
    "    print(\"Even\")\n",
    "else:\n",
    "    print(\"Odd\")\n",
    "\n",
    "print(\"Bye\")"
   ]
  },
  {
   "cell_type": "markdown",
   "id": "8226e32c",
   "metadata": {},
   "source": [
    "> The `input()` function allows a user to insert a value into a program. It returns a string value, which can be casted to any data type as per the requirement."
   ]
  },
  {
   "cell_type": "code",
   "execution_count": 108,
   "id": "c8198dab",
   "metadata": {},
   "outputs": [
    {
     "name": "stdout",
     "output_type": "stream",
     "text": [
      "a is smaller than b.\n",
      "i'm in else Block\n",
      "i'm neither in the if-block, nor in the else-block\n"
     ]
    }
   ],
   "source": [
    "#Example 2:\n",
    "a = 5\n",
    "b = 10\n",
    "if (a > b): \n",
    "    print('a is greater than b.')\n",
    "    print (\"i'm in if Block\")\n",
    "\n",
    "else:\n",
    "    print('a is smaller than b.')\n",
    "    print (\"i'm in else Block\")\n",
    "print (\"i'm neither in the if-block, nor in the else-block\")\n"
   ]
  },
  {
   "cell_type": "markdown",
   "id": "c42be9c2",
   "metadata": {},
   "source": [
    "### c. Python Ternary Opertor\n",
    "- The Python ternary operator is a type of conditional expression that evaluates a statement. \n",
    "- This is different from the `if..else` structure mentioned above, because it is not a control structure that directs the flow of program execution. It rather acts more like an operator that defines an expression.\n",
    "```\n",
    "rv = <expr1> if <condition> else <expr2>\n",
    "```"
   ]
  },
  {
   "cell_type": "code",
   "execution_count": 112,
   "id": "9df530a4",
   "metadata": {},
   "outputs": [
    {
     "data": {
      "text/plain": [
       "'adult'"
      ]
     },
     "execution_count": 112,
     "metadata": {},
     "output_type": "execute_result"
    }
   ],
   "source": [
    "# Example 1: Let us assign a specific value to variable rv (adult or child), depending on a condition\n",
    "age = 25\n",
    "rv = 'adult' if age>= 18 else 'child'\n",
    "rv"
   ]
  },
  {
   "cell_type": "code",
   "execution_count": null,
   "id": "300cb28b",
   "metadata": {},
   "outputs": [],
   "source": []
  },
  {
   "cell_type": "code",
   "execution_count": 116,
   "id": "a378d4b2",
   "metadata": {},
   "outputs": [
    {
     "name": "stdout",
     "output_type": "stream",
     "text": [
      "The number 3 is odd.\n"
     ]
    }
   ],
   "source": [
    "# Example 2: Let us assign a specific value to variable parity (even or odd), depending on a condition\n",
    "a_number = 3\n",
    "parity = 'even' if a_number % 2 == 0 else 'odd'\n",
    "print('The number {} is {}.'.format(a_number, parity))"
   ]
  },
  {
   "cell_type": "markdown",
   "id": "029e6291",
   "metadata": {},
   "source": [
    "### d. Nested `if...else` Statement\n",
    "Python allows us to nest `if` statements within `if` statements. i.e, we can place an if statement inside another if statement.\n",
    "<img align=\"center\" width=\"400\" height=\"300\"  src=\"images/nestedif.png\" > "
   ]
  },
  {
   "cell_type": "markdown",
   "id": "29d45c29",
   "metadata": {},
   "source": [
    "> The `input()` function allows a user to insert a value into a program. It returns a string value, which can be casted to any data type as per the requirement."
   ]
  },
  {
   "cell_type": "code",
   "execution_count": 130,
   "id": "5a9faf7f",
   "metadata": {},
   "outputs": [
    {
     "name": "stdin",
     "output_type": "stream",
     "text": [
      "Please enter your age:  20\n",
      "Do you have National ID card? Y/N:  y\n"
     ]
    },
    {
     "name": "stdout",
     "output_type": "stream",
     "text": [
      "Welcome, you can vote\n"
     ]
    }
   ],
   "source": [
    "# Example:\n",
    "age = float(input(\"Please enter your age: \"))\n",
    "if (age >= 18):\n",
    "    rv = input(\"Do you have National ID card? Y/N: \")\n",
    "    if ((rv == 'Y') or (rv == 'y')):\n",
    "        print(\"Welcome, you can vote\")\n",
    "    else:\n",
    "        print(\"Since you donot have CNIC, so you cannot vote.\")\n",
    "else:\n",
    "    print(\"You are too young to vote\")"
   ]
  },
  {
   "cell_type": "markdown",
   "id": "0e3a37bb",
   "metadata": {},
   "source": [
    "> Nested `if`, `else` statements are often confusing to read and prone to human error. It's good to avoid nesting whenever possible, or limit the nesting to 1 or 2 levels."
   ]
  },
  {
   "cell_type": "markdown",
   "id": "5e1ebc20",
   "metadata": {},
   "source": [
    "<img align=\"right\" width=\"400\" height=\"300\"  src=\"images/ifladder.png\" >\n",
    "\n",
    "### e. Ladder of `if`...`elif`...`else` Statements\n",
    "\n",
    "- Python also provides an `elif` statement (short for \"else if\") to chain a series of conditional blocks. \n",
    "- The conditions are evaluated one by one from top to bottom. \n",
    "- For the first condition that evaluates to `True`, its associated block of statements is executed. \n",
    "- The remaining conditions and statements are not evaluated at all. \n",
    "- So, in an `if`, `elif`, `elif`... chain, at most one block of statements is executed, the one corresponding to the first condition that evaluates to `True`. "
   ]
  },
  {
   "cell_type": "code",
   "execution_count": null,
   "id": "6e438b68-6307-4f93-b62f-65250dff7976",
   "metadata": {},
   "outputs": [],
   "source": [
    "OR truth table\n",
    "    true or true = true\n",
    "    true or false = true\n",
    "    false or true = true\n",
    "    False or False = False"
   ]
  },
  {
   "cell_type": "code",
   "execution_count": null,
   "id": "9e170e48-2d74-452f-b20c-9ca5f2d2aade",
   "metadata": {},
   "outputs": [],
   "source": [
    "AND truth table\n",
    "    True and True = True\n",
    "    True and False = False\n",
    "    False and True = False\n",
    "    False and False = False"
   ]
  },
  {
   "cell_type": "code",
   "execution_count": 140,
   "id": "5b7deacb",
   "metadata": {},
   "outputs": [
    {
     "name": "stdin",
     "output_type": "stream",
     "text": [
      "Enter your subject marks:  77\n"
     ]
    },
    {
     "name": "stdout",
     "output_type": "stream",
     "text": [
      "Letter Grade B+\n"
     ]
    }
   ],
   "source": [
    "# Example 1:\n",
    "y = input(\"Enter your subject marks: \")\n",
    "# by default the type is string, so we need to convert the type first\n",
    "y = int(y)\n",
    "if  (y >= 85):\n",
    "    print(\"Letter Grade A\")\n",
    "elif((y >= 80) and (y<85)):\n",
    "    print(\"Letter Grade A-\")\n",
    "elif((y >= 77) and (y<80)):\n",
    "    print(\"Letter Grade B+\")\n",
    "elif((y >= 73) and (y<77)):\n",
    "    print(\"Letter Grade B\")\n",
    "else:\n",
    "    print(\"Bad Grade\")"
   ]
  },
  {
   "cell_type": "code",
   "execution_count": 144,
   "id": "476d5ee8",
   "metadata": {},
   "outputs": [
    {
     "name": "stdout",
     "output_type": "stream",
     "text": [
      "10 is divisible by 2\n"
     ]
    }
   ],
   "source": [
    "# Example 2: Remember in an if-elif ladder at most one block of statements is executed\n",
    "a_number = 10\n",
    "if (a_number % 2 == 0):\n",
    "    print('{} is divisible by 2'.format(a_number))\n",
    "elif a_number % 3 == 0:\n",
    "    print('{} is divisible by 3'.format(a_number))\n",
    "elif a_number % 5 == 0:\n",
    "    print('{} is divisible by 5'.format(a_number))\n",
    "elif a_number % 7 == 0:\n",
    "    print('{} is divisible by 7'.format(a_number))"
   ]
  },
  {
   "cell_type": "markdown",
   "id": "a27f3521",
   "metadata": {},
   "source": [
    ">- Note that the message `15 is divisible by 5` is not printed because the condition `a_number % 5 == 0` isn't evaluated, since the previous condition `a_number % 3 == 0` evaluates to `True`. \n",
    ">- This is the key difference between using a chain of `if`, `elif`, `elif`... statements vs. a chain of `if` statements, where each condition is evaluated independently.\n",
    ">- This is shown below"
   ]
  },
  {
   "cell_type": "code",
   "execution_count": null,
   "id": "97bd9e5a",
   "metadata": {},
   "outputs": [],
   "source": []
  },
  {
   "cell_type": "code",
   "execution_count": null,
   "id": "835ccec2",
   "metadata": {},
   "outputs": [],
   "source": [
    "# Example 3:\n",
    "a_number = 15\n",
    "if a_number % 2 == 0:\n",
    "    print('{} is divisible by 2'.format(a_number))\n",
    "if a_number % 3 == 0:\n",
    "    print('{} is divisible by 3'.format(a_number))\n",
    "if a_number % 5 == 0:\n",
    "    print('{} is divisible by 5'.format(a_number))\n",
    "if a_number % 7 == 0:\n",
    "    print('{} is divisible by 7'.format(a_number))"
   ]
  },
  {
   "cell_type": "code",
   "execution_count": 146,
   "id": "6d11c2f1",
   "metadata": {},
   "outputs": [
    {
     "name": "stdout",
     "output_type": "stream",
     "text": [
      "All checks failed!\n",
      "73 is not divisible by 2, 3 or 5\n"
     ]
    }
   ],
   "source": [
    "# Example 4: You can also include an `else` statement at the end of a chain of `if`, `elif`... statements. \n",
    "# This code within the `else` block is evaluated, when none of the conditions hold true.\n",
    "a_number = 73\n",
    "if a_number % 2 == 0:\n",
    "    print('{} is divisible by 2'.format(a_number))\n",
    "elif a_number % 3 == 0:\n",
    "    print('{} is divisible by 3'.format(a_number))\n",
    "elif a_number % 5 == 0:\n",
    "    print('{} is divisible by 5'.format(a_number))\n",
    "else:\n",
    "    print('All checks failed!')\n",
    "    print('{} is not divisible by 2, 3 or 5'.format(a_number))"
   ]
  },
  {
   "cell_type": "code",
   "execution_count": 148,
   "id": "10b0fbff",
   "metadata": {},
   "outputs": [
    {
     "name": "stdout",
     "output_type": "stream",
     "text": [
      "The number 12 is not divisible by 5\n"
     ]
    }
   ],
   "source": [
    "# Example 5: Conditions can also be combined using the logical operators `and`, `or` and `not`. \n",
    "a_number = 12\n",
    "if a_number % 3 == 0 and a_number % 5 == 0:\n",
    "    print(\"The number {} is divisible by 3 and 5\".format(a_number))\n",
    "elif not a_number % 5 == 0:\n",
    "    print(\"The number {} is not divisible by 5\".format(a_number))"
   ]
  },
  {
   "cell_type": "markdown",
   "id": "5aa7fd27",
   "metadata": {},
   "source": [
    "## 3. The `pass` statement (Do nothing)\n",
    "The `pass` statement is generally used as a placeholder i.e. when the user does not know what code to write. So user simply places pass at that line. So user can simply place pass where empty code is not allowed, like in loops, function definitions, class definitions, or in if statements."
   ]
  },
  {
   "cell_type": "code",
   "execution_count": null,
   "id": "21fb029f",
   "metadata": {},
   "outputs": [],
   "source": [
    "help('pass')"
   ]
  },
  {
   "cell_type": "code",
   "execution_count": 156,
   "id": "3a631e5c",
   "metadata": {},
   "outputs": [
    {
     "name": "stdout",
     "output_type": "stream",
     "text": [
      "I will place code when the condition is true, later :)\n"
     ]
    }
   ],
   "source": [
    "# A simple example of pass:\n",
    "x = -6\n",
    "if x < 0:\n",
    "    pass\n",
    "print(\"I will place code when the condition is true, later :)\")"
   ]
  },
  {
   "cell_type": "code",
   "execution_count": null,
   "id": "8c58ef44",
   "metadata": {},
   "outputs": [],
   "source": []
  },
  {
   "cell_type": "markdown",
   "id": "57782dfd",
   "metadata": {},
   "source": [
    "## Check your Concepts\n",
    "\n",
    "Try answering the following questions to test your understanding of the topics covered in this notebook:\n",
    "\n",
    "1. What is branching in programming languages?\n",
    "2. What is the purpose of the `if` statement in Python?\n",
    "3. What is the syntax of the `if` statement? Give an example.\n",
    "4. What is indentation? Why is it used?\n",
    "5. What is an indented block of statements?\n",
    "6. How do you perform indentation in Python?\n",
    "7. What happens if some code is not indented correctly?\n",
    "8. What happens when the condition within the `if` statement evaluates to `True`? What happens if the condition evaluates for `false`?\n",
    "9. How do you check if a number is even?\n",
    "10. What is the purpose of the `else` statement in Python?\n",
    "11. What is the syntax of the `else` statement? Give an example.\n",
    "12. Write a program that prints different messages based on whether a number is positive or negative.\n",
    "13. Can the `else` statement be used without an `if` statement?\n",
    "14. What is the purpose of the `elif` statement in Python?\n",
    "15. What is the syntax of the `elif` statement? Give an example.\n",
    "16. Write a program that prints different messages for different months of the year.\n",
    "17. Write a program that uses `if`, `elif`, and `else` statements together.\n",
    "18. Can the `elif` statement be used without an `if` statement?\n",
    "19. Can the `elif` statement be used without an `else` statement?\n",
    "20. What is the difference between a chain of `if`, `elif`, `elif`… statements and a chain of `if`, `if`, `if`… statements? Give an example.\n",
    "21. Can non-boolean conditions be used with `if` statements? Give some examples.\n",
    "22. What are nested conditional statements? How are they useful?\n",
    "23. Give an example of nested conditional statements.\n",
    "24. Why is it advisable to avoid nested conditional statements?\n",
    "25. What is the shorthand `if` conditional expression? \n",
    "26. What is the syntax of the shorthand `if` conditional expression? Give an example.\n",
    "27. What is the difference between the shorthand `if` expression and the regular `if` statement?\n",
    "28. What is a statement in Python?\n",
    "29. What is an expression in Python?\n",
    "30. What is the difference between statements and expressions?\n",
    "31. Is every statement an expression? Give an example or counterexample.\n",
    "32. Is every expression a statement? Give an example or counterexample.\n",
    "33. What is the purpose of the pass statement in `if` blocks?\n",
    "34. Python does not have a switch or case statement. To get around this fact, one can use dictionary mapping. Try to implement code for this task.\n"
   ]
  },
  {
   "cell_type": "code",
   "execution_count": 170,
   "id": "4a15eca1",
   "metadata": {},
   "outputs": [
    {
     "name": "stdout",
     "output_type": "stream",
     "text": [
      "circle wiht radius 10 has cr 62.800000000000004\n"
     ]
    }
   ],
   "source": [
    "pi= 3.14\n",
    "r = 10\n",
    "cf = 2*pi*r\n",
    "#print(\"circle wiht radius {} has cr {}\".format(r, cf))\n",
    "\n",
    "print(\"circle wiht radius\", r, \"has cr\", cf)"
   ]
  },
  {
   "cell_type": "code",
   "execution_count": 162,
   "id": "412cd6cf-3258-4518-a67f-73585a61c047",
   "metadata": {},
   "outputs": [
    {
     "name": "stdout",
     "output_type": "stream",
     "text": [
      "3.141592653589793\n"
     ]
    }
   ],
   "source": [
    "import math\n",
    "print(math.pi)"
   ]
  },
  {
   "cell_type": "code",
   "execution_count": null,
   "id": "acc094a9-4378-473c-8bb3-9d2348fae1b2",
   "metadata": {},
   "outputs": [],
   "source": []
  }
 ],
 "metadata": {
  "kernelspec": {
   "display_name": "Python 3 (ipykernel)",
   "language": "python",
   "name": "python3"
  },
  "language_info": {
   "codemirror_mode": {
    "name": "ipython",
    "version": 3
   },
   "file_extension": ".py",
   "mimetype": "text/x-python",
   "name": "python",
   "nbconvert_exporter": "python",
   "pygments_lexer": "ipython3",
   "version": "3.11.5"
  }
 },
 "nbformat": 4,
 "nbformat_minor": 5
}
