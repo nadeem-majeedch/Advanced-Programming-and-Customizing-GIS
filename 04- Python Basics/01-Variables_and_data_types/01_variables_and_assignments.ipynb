{
 "cells": [
  {
   "attachments": {},
   "cell_type": "markdown",
   "id": "977964ae",
   "metadata": {},
   "source": [
    "# Module 1: Variables and data types\n",
    "\n",
    "## Part 1: Variables and assignments\n",
    "\n",
    "In Python, variables are used to store data values. A variable is like a container that holds a value, which can be of different types such as numbers, \n",
    "strings, or other objects. Assigning a value to a variable is known as variable assignment.\n",
    "\n",
    "### 1.1. Variable names\n",
    "\n",
    "When choosing variable names, there are a few rules to follow:\n",
    "\n",
    "- Variable names can only contain letters (a-z, A-Z), digits (0-9), and underscores (_). \n",
    "- Variable names cannot start with a digit.\n",
    "- Variable names are case-sensitive. For example, myVariable and myvariable are different variables.\n",
    "- Variable names should be descriptive and meaningful, helping to understand the purpose of the variable.\n",
    "\n",
    "Here are some valid variable names:"
   ]
  },
  {
   "cell_type": "code",
   "execution_count": 14,
   "id": "4df8b932",
   "metadata": {},
   "outputs": [
    {
     "name": "stdout",
     "output_type": "stream",
     "text": [
      "<class 'int'>\n",
      "<class 'str'>\n",
      "<class 'bool'>\n",
      "140714448950824\n",
      "2080643066352\n",
      "140714447481376\n"
     ]
    }
   ],
   "source": [
    "age = 25\n",
    "name = \"Alice\"\n",
    "is_student = True\n",
    "\n",
    "print(type(age))\n",
    "print(type(name))\n",
    "print(type(is_student))\n",
    "\n",
    "print(id(age))\n",
    "print(id(name))\n",
    "print(id(is_student))"
   ]
  },
  {
   "attachments": {},
   "cell_type": "markdown",
   "id": "6f5f19bc",
   "metadata": {},
   "source": [
    "### 1.2. Variable assignment\n",
    "\n",
    "In Python, you can assign a value to a variable using the \"=\" operator. The variable on the left side of the \"=\" sign is assigned the value on the right side. \n",
    "\n",
    "For example:"
   ]
  },
  {
   "cell_type": "code",
   "execution_count": 20,
   "id": "42bcd7c9",
   "metadata": {},
   "outputs": [],
   "source": [
    "x = 10\n",
    "y = 5.5\n",
    "message = \"Hello, World!\""
   ]
  },
  {
   "cell_type": "code",
   "execution_count": 24,
   "id": "8b60b3da-dab7-49be-a724-28ccd3e6fd78",
   "metadata": {},
   "outputs": [
    {
     "name": "stdout",
     "output_type": "stream",
     "text": [
      "140714448950344 140714448950344\n"
     ]
    }
   ],
   "source": [
    "a=10\n",
    "b=10\n",
    "print(id(a), id(b))"
   ]
  },
  {
   "cell_type": "code",
   "execution_count": 28,
   "id": "1183cade-4665-4743-8bcf-14d28d78a949",
   "metadata": {},
   "outputs": [
    {
     "name": "stdout",
     "output_type": "stream",
     "text": [
      "140714448950344 2080671734448\n"
     ]
    }
   ],
   "source": [
    "b=12.5\n",
    "print(id(a), id(b))"
   ]
  },
  {
   "attachments": {},
   "cell_type": "markdown",
   "id": "56e90c13",
   "metadata": {
    "lines_to_next_cell": 0
   },
   "source": [
    "You can also assign multiple variables in a single line:"
   ]
  },
  {
   "cell_type": "code",
   "execution_count": 40,
   "id": "140f7a9d",
   "metadata": {},
   "outputs": [],
   "source": [
    "a, b, c = 1, 2, 3"
   ]
  },
  {
   "cell_type": "code",
   "execution_count": 32,
   "id": "bec79c8c-f2b5-4f49-ab04-a0f223a2c111",
   "metadata": {},
   "outputs": [
    {
     "data": {
      "text/plain": [
       "(1, 2, 3)"
      ]
     },
     "execution_count": 32,
     "metadata": {},
     "output_type": "execute_result"
    }
   ],
   "source": [
    "a, b, c"
   ]
  },
  {
   "cell_type": "code",
   "execution_count": 34,
   "id": "36c09448-f7fa-4607-ae20-d3fdf59895ff",
   "metadata": {},
   "outputs": [
    {
     "data": {
      "text/plain": [
       "3"
      ]
     },
     "execution_count": 34,
     "metadata": {},
     "output_type": "execute_result"
    }
   ],
   "source": [
    "c"
   ]
  },
  {
   "attachments": {},
   "cell_type": "markdown",
   "id": "5cc69b57",
   "metadata": {},
   "source": [
    "### 1.3. Variable reassignment\n",
    "\n",
    "In Python, you can change the value of a variable by assigning a new value to it. This is known as variable reassignment.\n",
    "When you reassign a variable, the new value overwrites the previous value stored in that variable.\n",
    "\n",
    "\n",
    "For example:"
   ]
  },
  {
   "cell_type": "code",
   "execution_count": 42,
   "id": "c9379f7a",
   "metadata": {},
   "outputs": [
    {
     "name": "stdout",
     "output_type": "stream",
     "text": [
      "10\n",
      "20\n"
     ]
    }
   ],
   "source": [
    "x = 10\n",
    "print(x)  # Output: 10\n",
    "\n",
    "x = 20\n",
    "\n",
    "print(x)  # Output: 20"
   ]
  },
  {
   "attachments": {},
   "cell_type": "markdown",
   "id": "a2213f19",
   "metadata": {},
   "source": [
    "### 1.4. Printing variables\n",
    "\n",
    "To display the value of a variable, you can use the print() function. This allows you to see the current value stored in a variable during program execution.\n",
    "\n",
    " For example:"
   ]
  },
  {
   "cell_type": "code",
   "execution_count": 50,
   "id": "79dca10b",
   "metadata": {},
   "outputs": [
    {
     "name": "stdout",
     "output_type": "stream",
     "text": [
      "Alice\n",
      "name: Alice       Age: 25\n"
     ]
    }
   ],
   "source": [
    "name = \"Alice\"\n",
    "print(name)  # Output: Alice\n",
    "\n",
    "age = 25\n",
    "print(\"name:\", name,\"     \",  'Age:', age)  # Output: Age: 25"
   ]
  },
  {
   "attachments": {},
   "cell_type": "markdown",
   "id": "cd93c5e1",
   "metadata": {},
   "source": [
    "The print() function can take one or more arguments, separated by commas. It converts each argument to a string and displays it on the console.\n",
    "\n",
    "For example:"
   ]
  },
  {
   "cell_type": "code",
   "execution_count": 52,
   "id": "35455aa9",
   "metadata": {},
   "outputs": [
    {
     "name": "stdout",
     "output_type": "stream",
     "text": [
      "Alice 25 USA\n"
     ]
    }
   ],
   "source": [
    "name = \"Alice\"\n",
    "age = 25\n",
    "country = \"USA\"\n",
    "\n",
    "print(name, age, country)"
   ]
  },
  {
   "attachments": {},
   "cell_type": "markdown",
   "id": "b2c51e3f",
   "metadata": {},
   "source": [
    "### 1.5. Summary\n",
    "\n",
    "In this part, you learned about variables, variable names, variable assignment, variable reassignment, and printing variables. \n",
    "Variables are fundamental in Python programming as they allow you to store and manipulate data dynamically."
   ]
  }
 ],
 "metadata": {
  "jupytext": {
   "cell_metadata_filter": "-all",
   "main_language": "python",
   "notebook_metadata_filter": "-all"
  },
  "kernelspec": {
   "display_name": "Python 3 (ipykernel)",
   "language": "python",
   "name": "python3"
  },
  "language_info": {
   "codemirror_mode": {
    "name": "ipython",
    "version": 3
   },
   "file_extension": ".py",
   "mimetype": "text/x-python",
   "name": "python",
   "nbconvert_exporter": "python",
   "pygments_lexer": "ipython3",
   "version": "3.11.5"
  }
 },
 "nbformat": 4,
 "nbformat_minor": 5
}
