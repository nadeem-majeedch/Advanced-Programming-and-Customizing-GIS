{
 "cells": [
  {
   "attachments": {},
   "cell_type": "markdown",
   "id": "ceb7d26e",
   "metadata": {},
   "source": [
    "# Module 1: Variables and data types\n",
    "\n",
    "## Part 3: Strings and dtring manipulation\n",
    "\n",
    "In Python, a string is a sequence of characters enclosed in single quotes ( ' ) or double quotes ( \" ). It is used to represent \n",
    "text or a collection of characters. Strings are immutable, meaning that once they are created, their values cannot be changed.\n",
    "\n",
    "### 3.1. Creating Strings\n",
    "\n",
    "You can create strings by enclosing text within single quotes or double quotes. For example:"
   ]
  },
  {
   "cell_type": "code",
   "execution_count": 13,
   "id": "3f101002",
   "metadata": {
    "lines_to_next_cell": 0
   },
   "outputs": [],
   "source": [
    "name = 'Alice'\n",
    "message = \"Hello, World!\""
   ]
  },
  {
   "cell_type": "code",
   "execution_count": 15,
   "id": "fab16742-2f28-49e0-a03b-392f65539d91",
   "metadata": {},
   "outputs": [
    {
     "data": {
      "text/plain": [
       "str"
      ]
     },
     "execution_count": 15,
     "metadata": {},
     "output_type": "execute_result"
    }
   ],
   "source": [
    "type(message)"
   ]
  },
  {
   "cell_type": "markdown",
   "id": "0b700394-baea-4487-97bf-f37b5cfcc3c3",
   "metadata": {},
   "source": [
    "Escape sequences : \\' \\\" \\t \\n"
   ]
  },
  {
   "cell_type": "code",
   "execution_count": 49,
   "id": "b570ba4f-ddb4-44f7-b5f1-52f9faf77b26",
   "metadata": {},
   "outputs": [],
   "source": [
    "mesg = \"I have her\\\" pens color is picnk\\\"\"\n"
   ]
  },
  {
   "cell_type": "code",
   "execution_count": 47,
   "id": "da37a6e8-6aac-493b-a6a1-d67d676347b8",
   "metadata": {},
   "outputs": [
    {
     "name": "stdout",
     "output_type": "stream",
     "text": [
      "I have her\" pens color is picnk\".\n"
     ]
    }
   ],
   "source": [
    "print(mesg)"
   ]
  },
  {
   "cell_type": "markdown",
   "id": "5102812c-e94a-4656-93ed-09014f14a147",
   "metadata": {},
   "source": []
  },
  {
   "cell_type": "code",
   "execution_count": 51,
   "id": "af13b14f-dd39-4466-8fc2-7b05e8276ce8",
   "metadata": {},
   "outputs": [],
   "source": [
    "mymsg=\"\"\"hello its good day\n",
    "its Friday November 2024\"\"\"\n"
   ]
  },
  {
   "cell_type": "code",
   "execution_count": 53,
   "id": "e301d9e3-f91f-435f-a092-a95081491420",
   "metadata": {},
   "outputs": [
    {
     "name": "stdout",
     "output_type": "stream",
     "text": [
      "hello its good day\n",
      "its Friday November 2024\n"
     ]
    }
   ],
   "source": [
    "print(mymsg)"
   ]
  },
  {
   "cell_type": "code",
   "execution_count": 55,
   "id": "feaca941-dcef-4036-94cb-7f1f9e560436",
   "metadata": {},
   "outputs": [],
   "source": [
    "mymsg='''hello its good day\n",
    "its Friday November 2024'''"
   ]
  },
  {
   "cell_type": "code",
   "execution_count": 59,
   "id": "71466a04-3cf2-477c-b724-832dca4431d2",
   "metadata": {},
   "outputs": [
    {
     "data": {
      "text/plain": [
       "'hello its good day\\nits Friday November 2024'"
      ]
     },
     "execution_count": 59,
     "metadata": {},
     "output_type": "execute_result"
    }
   ],
   "source": [
    "mymsg"
   ]
  },
  {
   "cell_type": "code",
   "execution_count": 61,
   "id": "3024e029-261e-44f3-835b-8c23dc37eaed",
   "metadata": {},
   "outputs": [
    {
     "name": "stdout",
     "output_type": "stream",
     "text": [
      "hello its good day\n",
      "its Friday November 2024\n"
     ]
    }
   ],
   "source": [
    "print(mymsg)"
   ]
  },
  {
   "attachments": {},
   "cell_type": "markdown",
   "id": "dffc9e19",
   "metadata": {
    "lines_to_next_cell": 0
   },
   "source": [
    "Both single quotes and double quotes can be used interchangeably to define strings. However, make sure to use the same type \n",
    "of quotes at the beginning and end of the string.\n",
    "\n",
    "### 3.2. String manipulation\n",
    "\n",
    "Python provides various operations and methods for manipulating strings. Here are some commonly used string manipulation techniques:\n",
    "\n",
    "#### 3.2.1. concatenation\n",
    "You can concatenate two or more strings using the + operator. This combines the strings into a single string:"
   ]
  },
  {
   "cell_type": "code",
   "execution_count": null,
   "id": "5f3c11fb-5632-4425-9f9a-abea28d37a1a",
   "metadata": {},
   "outputs": [],
   "source": []
  },
  {
   "cell_type": "code",
   "execution_count": 69,
   "id": "743e740f",
   "metadata": {},
   "outputs": [
    {
     "name": "stdout",
     "output_type": "stream",
     "text": [
      "Hello John Doe\n"
     ]
    }
   ],
   "source": [
    "first_name = \"John\"\n",
    "last_name = \"Doe\"\n",
    "\n",
    "full_name =\"Hello \" + first_name +\" \"+ last_name\n",
    "print(full_name)"
   ]
  },
  {
   "cell_type": "code",
   "execution_count": 93,
   "id": "cab5b685-3309-4ebf-905e-5a05be487e59",
   "metadata": {},
   "outputs": [
    {
     "data": {
      "text/plain": [
       "'J'"
      ]
     },
     "execution_count": 93,
     "metadata": {},
     "output_type": "execute_result"
    }
   ],
   "source": [
    "y=first_name[0]\n",
    "y"
   ]
  },
  {
   "cell_type": "code",
   "execution_count": 97,
   "id": "bd955a66-ee1a-4414-af48-f64300a235f0",
   "metadata": {},
   "outputs": [
    {
     "data": {
      "text/plain": [
       "'jOHN'"
      ]
     },
     "execution_count": 97,
     "metadata": {},
     "output_type": "execute_result"
    }
   ],
   "source": [
    "first_name.swapcase()"
   ]
  },
  {
   "cell_type": "code",
   "execution_count": 95,
   "id": "51033168-3927-42e3-b2fe-c0c17267373e",
   "metadata": {},
   "outputs": [
    {
     "data": {
      "text/plain": [
       "'JOHN'"
      ]
     },
     "execution_count": 95,
     "metadata": {},
     "output_type": "execute_result"
    }
   ],
   "source": [
    "first_name.upper()"
   ]
  },
  {
   "cell_type": "code",
   "execution_count": 71,
   "id": "79c407f4-73fe-4f35-b852-e29b0381ab0d",
   "metadata": {},
   "outputs": [
    {
     "name": "stdout",
     "output_type": "stream",
     "text": [
      "JohnJohnJohn\n"
     ]
    }
   ],
   "source": [
    "print(first_name * 3)"
   ]
  },
  {
   "cell_type": "code",
   "execution_count": 101,
   "id": "ab18df5b-9e7b-4446-9d3b-eb1efda3a34c",
   "metadata": {},
   "outputs": [
    {
     "name": "stdout",
     "output_type": "stream",
     "text": [
      "['__add__', '__class__', '__contains__', '__delattr__', '__dir__', '__doc__', '__eq__', '__format__', '__ge__', '__getattribute__', '__getitem__', '__getnewargs__', '__getstate__', '__gt__', '__hash__', '__init__', '__init_subclass__', '__iter__', '__le__', '__len__', '__lt__', '__mod__', '__mul__', '__ne__', '__new__', '__reduce__', '__reduce_ex__', '__repr__', '__rmod__', '__rmul__', '__setattr__', '__sizeof__', '__str__', '__subclasshook__', 'capitalize', 'casefold', 'center', 'count', 'encode', 'endswith', 'expandtabs', 'find', 'format', 'format_map', 'index', 'isalnum', 'isalpha', 'isascii', 'isdecimal', 'isdigit', 'isidentifier', 'islower', 'isnumeric', 'isprintable', 'isspace', 'istitle', 'isupper', 'join', 'ljust', 'lower', 'lstrip', 'maketrans', 'partition', 'removeprefix', 'removesuffix', 'replace', 'rfind', 'rindex', 'rjust', 'rpartition', 'rsplit', 'rstrip', 'split', 'splitlines', 'startswith', 'strip', 'swapcase', 'title', 'translate', 'upper', 'zfill']\n"
     ]
    }
   ],
   "source": [
    "print(dir('str'))"
   ]
  },
  {
   "attachments": {},
   "cell_type": "markdown",
   "id": "bf3389ba",
   "metadata": {},
   "source": [
    "#### 3.2.2. String length and count\n",
    "\n",
    "You can determine the length of a string using the len() function. It returns the number of characters in the string:"
   ]
  },
  {
   "cell_type": "code",
   "execution_count": 138,
   "id": "576e5944",
   "metadata": {},
   "outputs": [
    {
     "name": "stdout",
     "output_type": "stream",
     "text": [
      "Length: 17\n"
     ]
    }
   ],
   "source": [
    "message = \"    Hello, World!\"\n",
    "length = len(message)\n",
    "print(\"Length:\", length)"
   ]
  },
  {
   "cell_type": "code",
   "execution_count": 110,
   "id": "c94a1a1c-c97c-4913-9b05-13fb9e4484e6",
   "metadata": {},
   "outputs": [
    {
     "name": "stdout",
     "output_type": "stream",
     "text": [
      "7\n"
     ]
    }
   ],
   "source": [
    "print(len(\"message\"))"
   ]
  },
  {
   "cell_type": "code",
   "execution_count": 118,
   "id": "e8a8ea89-68f5-41ae-95de-aeb97b6c5397",
   "metadata": {},
   "outputs": [
    {
     "name": "stdout",
     "output_type": "stream",
     "text": [
      "11\n"
     ]
    }
   ],
   "source": [
    "a=1234567.675\n",
    "print(len(str(a)))"
   ]
  },
  {
   "cell_type": "code",
   "execution_count": 140,
   "id": "4b81473a-9b1d-4141-8315-469ed4b179a4",
   "metadata": {},
   "outputs": [
    {
     "name": "stdout",
     "output_type": "stream",
     "text": [
      "    Hello, World!\n"
     ]
    }
   ],
   "source": [
    "print(message)"
   ]
  },
  {
   "cell_type": "code",
   "execution_count": 144,
   "id": "e52b8bd5-a3f0-4374-8568-bc1268a085e2",
   "metadata": {},
   "outputs": [
    {
     "name": "stdout",
     "output_type": "stream",
     "text": [
      "Hello, World!\n"
     ]
    }
   ],
   "source": [
    "print(message.strip())"
   ]
  },
  {
   "cell_type": "code",
   "execution_count": null,
   "id": "a6da46ad-1d38-4f8b-a515-a3742a1f75d6",
   "metadata": {},
   "outputs": [],
   "source": []
  },
  {
   "attachments": {},
   "cell_type": "markdown",
   "id": "86c322cd",
   "metadata": {},
   "source": [
    "You can determine the occurrences of a word in a string using the count() function. It returns the number of occurrences in the string:"
   ]
  },
  {
   "cell_type": "code",
   "execution_count": 128,
   "id": "6e67a0f5",
   "metadata": {},
   "outputs": [
    {
     "name": "stdout",
     "output_type": "stream",
     "text": [
      "Occurrences: 1\n"
     ]
    }
   ],
   "source": [
    "message = \"Hello, World!\"\n",
    "word = \"Hello\"\n",
    "occurrences = message.count(word)\n",
    "print(\"Occurrences:\", occurrences)"
   ]
  },
  {
   "cell_type": "code",
   "execution_count": 132,
   "id": "635a61df-8cb2-44e9-b8bf-fa3b0a34e96a",
   "metadata": {
    "scrolled": true
   },
   "outputs": [
    {
     "name": "stdout",
     "output_type": "stream",
     "text": [
      "2\n"
     ]
    }
   ],
   "source": [
    "print(message.count('o'))"
   ]
  },
  {
   "cell_type": "code",
   "execution_count": 136,
   "id": "d51319c3-76ea-414c-90d5-49d3dda288a6",
   "metadata": {},
   "outputs": [
    {
     "name": "stdout",
     "output_type": "stream",
     "text": [
      "8\n"
     ]
    }
   ],
   "source": [
    "print(message.index('or'))"
   ]
  },
  {
   "attachments": {},
   "cell_type": "markdown",
   "id": "788634dd",
   "metadata": {},
   "source": [
    "#### 3.2.3. Accessing characters\n",
    "\n",
    "You can access individual characters within a string by using indexing. Indexing starts from 0 for the first character:"
   ]
  },
  {
   "cell_type": "code",
   "execution_count": 179,
   "id": "98d1c940",
   "metadata": {},
   "outputs": [
    {
     "name": "stdout",
     "output_type": "stream",
     "text": [
      "First Character: o\n"
     ]
    }
   ],
   "source": [
    "message = \"Hello, World\"\n",
    "first_char = message[-8]\n",
    "print(\"First Character:\", first_char)"
   ]
  },
  {
   "attachments": {},
   "cell_type": "markdown",
   "id": "a7cdf5f8",
   "metadata": {},
   "source": [
    "### You can also use negative indexing to access characters from the end of the string. -1 refers to the last character:"
   ]
  },
  {
   "cell_type": "code",
   "execution_count": 158,
   "id": "a2aa1274",
   "metadata": {},
   "outputs": [
    {
     "name": "stdout",
     "output_type": "stream",
     "text": [
      "Last Character: d\n"
     ]
    }
   ],
   "source": [
    "last_char = message[-1]\n",
    "print(\"Last Character:\", last_char)"
   ]
  },
  {
   "cell_type": "code",
   "execution_count": null,
   "id": "da649898-bd5a-405a-9c06-2300adffb73c",
   "metadata": {},
   "outputs": [],
   "source": []
  },
  {
   "cell_type": "code",
   "execution_count": 234,
   "id": "efa67983-7b11-4919-a9db-118f349ff4f0",
   "metadata": {},
   "outputs": [
    {
     "name": "stdout",
     "output_type": "stream",
     "text": [
      "string is imutable\n",
      "1605169914672\n",
      "string is imutable and indexed\n",
      "1605140487888\n"
     ]
    }
   ],
   "source": [
    "mystr= \"string is imutable\"\n",
    "print(mystr)\n",
    "print(id(mystr))\n",
    "#mystr[0]= 'S'\n",
    "\n",
    "mystr= \"string is imutable and indexed\"\n",
    "print(mystr)\n",
    "print(id(mystr))"
   ]
  },
  {
   "cell_type": "code",
   "execution_count": null,
   "id": "53886200-6428-459c-b688-f6a9c0b43e37",
   "metadata": {},
   "outputs": [],
   "source": []
  },
  {
   "attachments": {},
   "cell_type": "markdown",
   "id": "a47d66da",
   "metadata": {},
   "source": [
    "#### 3.2.4. Slicing\n",
    "\n",
    "You can extract a substring from a string using slicing. Slicing allows you to specify a range of indices to extract a portion of the string:"
   ]
  },
  {
   "cell_type": "code",
   "execution_count": 209,
   "id": "41827751",
   "metadata": {},
   "outputs": [
    {
     "name": "stdout",
     "output_type": "stream",
     "text": [
      "Substring: lroW ,ol\n"
     ]
    }
   ],
   "source": [
    "# str[start:stop:step]\n",
    "\n",
    "message = \"Hello, World!\"\n",
    "substring = message[10:2:-1]\n",
    "print(\"Substring:\", substring)"
   ]
  },
  {
   "attachments": {},
   "cell_type": "markdown",
   "id": "e4d9edbf",
   "metadata": {},
   "source": [
    "### 3.3. String methods\n",
    "\n",
    "Python provides a rich set of built-in string methods that allow you to manipulate strings. Here are some commonly used string methods:"
   ]
  },
  {
   "cell_type": "code",
   "execution_count": 211,
   "id": "f803bb3f",
   "metadata": {},
   "outputs": [
    {
     "name": "stdout",
     "output_type": "stream",
     "text": [
      "Uppercase: HELLO, WORLD!\n",
      "Lowercase: hello, world!\n",
      "Replaced: Hi, World!\n"
     ]
    }
   ],
   "source": [
    "message = \"Hello, World!\"\n",
    "\n",
    "# Convert to uppercase\n",
    "uppercase = message.upper()\n",
    "print(\"Uppercase:\", uppercase)  # Output: Uppercase: HELLO, WORLD!\n",
    "\n",
    "# Convert to lowercase\n",
    "lowercase = message.lower()\n",
    "print(\"Lowercase:\", lowercase)  # Output: Lowercase: hello, world!\n",
    "\n",
    "# Replace substring\n",
    "replaced = message.replace(\"Hello\", \"Hi\")\n",
    "print(\"Replaced:\", replaced)  # Output: Replaced: Hi, World!\n",
    "\n"
   ]
  },
  {
   "cell_type": "code",
   "execution_count": 242,
   "id": "2d59e29e-1e5f-4bcf-9b36-0cb07a2c7847",
   "metadata": {},
   "outputs": [
    {
     "name": "stdout",
     "output_type": "stream",
     "text": [
      "Words: ['If', 'the', 'argument,', 'is', 'a', 'number,', 'the', 'constructor,', 'serves', 'as', 'a', 'numeric', 'conversion,', 'like', 'int', 'and', 'float', '.', 'For', 'a', 'general', 'Python', 'object', 'x', ',', 'complex(x)', 'delegates', 'to', 'x.']\n",
      "<class 'list'> <class 'str'>\n"
     ]
    }
   ],
   "source": [
    "# Split into a list\n",
    "mywords=\"If the argument, is a number, the constructor, serves as a numeric conversion, like int and float . For a general Python object x , complex(x) delegates to x.\"\n",
    "words = mywords.split()\n",
    "print(\"Words:\", words)  # Output: Words: ['Hello', 'World!']\n",
    "print(type(words), type(mywords))"
   ]
  },
  {
   "attachments": {},
   "cell_type": "markdown",
   "id": "27110ad5",
   "metadata": {},
   "source": [
    "### 3.4. Summary\n",
    "\n",
    "In this part, you explored strings and string manipulation in Python. Strings are used to represent text and can be manipulated using\n",
    "various operations and methods. Understanding string manipulation techniques is crucial for working with textual data in Python."
   ]
  }
 ],
 "metadata": {
  "jupytext": {
   "cell_metadata_filter": "-all",
   "main_language": "python",
   "notebook_metadata_filter": "-all"
  },
  "kernelspec": {
   "display_name": "Python 3 (ipykernel)",
   "language": "python",
   "name": "python3"
  },
  "language_info": {
   "codemirror_mode": {
    "name": "ipython",
    "version": 3
   },
   "file_extension": ".py",
   "mimetype": "text/x-python",
   "name": "python",
   "nbconvert_exporter": "python",
   "pygments_lexer": "ipython3",
   "version": "3.11.5"
  }
 },
 "nbformat": 4,
 "nbformat_minor": 5
}
